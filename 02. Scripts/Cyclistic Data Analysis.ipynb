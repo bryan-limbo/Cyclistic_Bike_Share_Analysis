{
 "cells": [
  {
   "cell_type": "code",
   "execution_count": 1,
   "id": "84feccf0",
   "metadata": {},
   "outputs": [
    {
     "data": {
      "text/plain": [
       "200"
      ]
     },
     "execution_count": 1,
     "metadata": {},
     "output_type": "execute_result"
    }
   ],
   "source": [
    "import gc\n",
    "gc.collect()"
   ]
  },
  {
   "cell_type": "markdown",
   "id": "230ea0bd",
   "metadata": {},
   "source": [
    "# 01. Import libraries "
   ]
  },
  {
   "cell_type": "code",
   "execution_count": 2,
   "id": "45e77817",
   "metadata": {},
   "outputs": [],
   "source": [
    "import pandas as pd\n",
    "import numpy as np\n",
    "import os\n",
    "import seaborn as sns\n",
    "import matplotlib.pyplot as plt\n",
    "import scipy\n",
    "from datetime import datetime\n",
    "import folium\n",
    "import json\n",
    "from folium.plugins import MarkerCluster"
   ]
  },
  {
   "cell_type": "code",
   "execution_count": 3,
   "id": "f3c67519",
   "metadata": {},
   "outputs": [],
   "source": [
    "# Create a path for easier importing\n",
    "path = r'C:\\Users\\blim9\\Desktop\\Google Data Analytics\\Case Study'"
   ]
  },
  {
   "cell_type": "code",
   "execution_count": 4,
   "id": "fe40f213",
   "metadata": {},
   "outputs": [],
   "source": [
    "df = pd.read_pickle(os.path.join (path, 'Data', 'Prepared Data', 'cleaned_data.pkl'))"
   ]
  },
  {
   "cell_type": "markdown",
   "id": "42f025f3",
   "metadata": {},
   "source": [
    "# 02. Analysis"
   ]
  },
  {
   "cell_type": "code",
   "execution_count": 5,
   "id": "5f82d88e",
   "metadata": {},
   "outputs": [
    {
     "data": {
      "text/html": [
       "<div>\n",
       "<style scoped>\n",
       "    .dataframe tbody tr th:only-of-type {\n",
       "        vertical-align: middle;\n",
       "    }\n",
       "\n",
       "    .dataframe tbody tr th {\n",
       "        vertical-align: top;\n",
       "    }\n",
       "\n",
       "    .dataframe thead th {\n",
       "        text-align: right;\n",
       "    }\n",
       "</style>\n",
       "<table border=\"1\" class=\"dataframe\">\n",
       "  <thead>\n",
       "    <tr style=\"text-align: right;\">\n",
       "      <th></th>\n",
       "      <th>ride_id</th>\n",
       "      <th>rideable_type</th>\n",
       "      <th>member_type</th>\n",
       "      <th>start_date_time</th>\n",
       "      <th>end_date_time</th>\n",
       "      <th>ride_length</th>\n",
       "      <th>month</th>\n",
       "      <th>day_of_week</th>\n",
       "      <th>start_station_name</th>\n",
       "      <th>start_station_id</th>\n",
       "      <th>end_station_name</th>\n",
       "      <th>end_station_id</th>\n",
       "      <th>start_lat</th>\n",
       "      <th>start_long</th>\n",
       "      <th>end_lat</th>\n",
       "      <th>end_long</th>\n",
       "    </tr>\n",
       "  </thead>\n",
       "  <tbody>\n",
       "    <tr>\n",
       "      <th>30</th>\n",
       "      <td>DD06751C6019D865</td>\n",
       "      <td>classic_bike</td>\n",
       "      <td>member</td>\n",
       "      <td>2021-08-08 17:21:26</td>\n",
       "      <td>2021-08-08 17:25:37</td>\n",
       "      <td>251.0</td>\n",
       "      <td>8</td>\n",
       "      <td>6</td>\n",
       "      <td>Desplaines St &amp; Kinzie St</td>\n",
       "      <td>TA1306000003</td>\n",
       "      <td>Kingsbury St &amp; Kinzie St</td>\n",
       "      <td>KA1503000043</td>\n",
       "      <td>41.888718</td>\n",
       "      <td>-87.644447</td>\n",
       "      <td>41.889175</td>\n",
       "      <td>-87.638504</td>\n",
       "    </tr>\n",
       "    <tr>\n",
       "      <th>36</th>\n",
       "      <td>79973DC3B232048F</td>\n",
       "      <td>classic_bike</td>\n",
       "      <td>member</td>\n",
       "      <td>2021-08-27 08:53:52</td>\n",
       "      <td>2021-08-27 09:18:29</td>\n",
       "      <td>1477.0</td>\n",
       "      <td>8</td>\n",
       "      <td>4</td>\n",
       "      <td>Larrabee St &amp; Armitage Ave</td>\n",
       "      <td>TA1309000006</td>\n",
       "      <td>Michigan Ave &amp; Oak St</td>\n",
       "      <td>13042</td>\n",
       "      <td>41.918083</td>\n",
       "      <td>-87.643745</td>\n",
       "      <td>41.900959</td>\n",
       "      <td>-87.623779</td>\n",
       "    </tr>\n",
       "    <tr>\n",
       "      <th>72</th>\n",
       "      <td>F41EB054E44ACFDA</td>\n",
       "      <td>classic_bike</td>\n",
       "      <td>casual</td>\n",
       "      <td>2021-08-12 16:52:09</td>\n",
       "      <td>2021-08-12 16:56:51</td>\n",
       "      <td>282.0</td>\n",
       "      <td>8</td>\n",
       "      <td>3</td>\n",
       "      <td>Michigan Ave &amp; Oak St</td>\n",
       "      <td>13042</td>\n",
       "      <td>Michigan Ave &amp; Oak St</td>\n",
       "      <td>13042</td>\n",
       "      <td>41.900959</td>\n",
       "      <td>-87.623779</td>\n",
       "      <td>41.900959</td>\n",
       "      <td>-87.623779</td>\n",
       "    </tr>\n",
       "    <tr>\n",
       "      <th>121</th>\n",
       "      <td>B149E6C71A1C3B14</td>\n",
       "      <td>classic_bike</td>\n",
       "      <td>casual</td>\n",
       "      <td>2021-08-23 15:33:04</td>\n",
       "      <td>2021-08-23 16:09:00</td>\n",
       "      <td>2156.0</td>\n",
       "      <td>8</td>\n",
       "      <td>0</td>\n",
       "      <td>Michigan Ave &amp; Oak St</td>\n",
       "      <td>13042</td>\n",
       "      <td>Michigan Ave &amp; Oak St</td>\n",
       "      <td>13042</td>\n",
       "      <td>41.900959</td>\n",
       "      <td>-87.623779</td>\n",
       "      <td>41.900959</td>\n",
       "      <td>-87.623779</td>\n",
       "    </tr>\n",
       "    <tr>\n",
       "      <th>123</th>\n",
       "      <td>C41829CD6CC5A8B6</td>\n",
       "      <td>classic_bike</td>\n",
       "      <td>casual</td>\n",
       "      <td>2021-08-23 10:11:09</td>\n",
       "      <td>2021-08-23 10:51:11</td>\n",
       "      <td>2402.0</td>\n",
       "      <td>8</td>\n",
       "      <td>0</td>\n",
       "      <td>Aberdeen St &amp; Jackson Blvd</td>\n",
       "      <td>13157</td>\n",
       "      <td>Aberdeen St &amp; Jackson Blvd</td>\n",
       "      <td>13157</td>\n",
       "      <td>41.877728</td>\n",
       "      <td>-87.654785</td>\n",
       "      <td>41.877728</td>\n",
       "      <td>-87.654785</td>\n",
       "    </tr>\n",
       "  </tbody>\n",
       "</table>\n",
       "</div>"
      ],
      "text/plain": [
       "              ride_id rideable_type member_type     start_date_time  \\\n",
       "30   DD06751C6019D865  classic_bike      member 2021-08-08 17:21:26   \n",
       "36   79973DC3B232048F  classic_bike      member 2021-08-27 08:53:52   \n",
       "72   F41EB054E44ACFDA  classic_bike      casual 2021-08-12 16:52:09   \n",
       "121  B149E6C71A1C3B14  classic_bike      casual 2021-08-23 15:33:04   \n",
       "123  C41829CD6CC5A8B6  classic_bike      casual 2021-08-23 10:11:09   \n",
       "\n",
       "          end_date_time  ride_length  month  day_of_week  \\\n",
       "30  2021-08-08 17:25:37        251.0      8            6   \n",
       "36  2021-08-27 09:18:29       1477.0      8            4   \n",
       "72  2021-08-12 16:56:51        282.0      8            3   \n",
       "121 2021-08-23 16:09:00       2156.0      8            0   \n",
       "123 2021-08-23 10:51:11       2402.0      8            0   \n",
       "\n",
       "             start_station_name start_station_id            end_station_name  \\\n",
       "30    Desplaines St & Kinzie St     TA1306000003    Kingsbury St & Kinzie St   \n",
       "36   Larrabee St & Armitage Ave     TA1309000006       Michigan Ave & Oak St   \n",
       "72        Michigan Ave & Oak St            13042       Michigan Ave & Oak St   \n",
       "121       Michigan Ave & Oak St            13042       Michigan Ave & Oak St   \n",
       "123  Aberdeen St & Jackson Blvd            13157  Aberdeen St & Jackson Blvd   \n",
       "\n",
       "    end_station_id  start_lat  start_long    end_lat   end_long  \n",
       "30    KA1503000043  41.888718  -87.644447  41.889175 -87.638504  \n",
       "36           13042  41.918083  -87.643745  41.900959 -87.623779  \n",
       "72           13042  41.900959  -87.623779  41.900959 -87.623779  \n",
       "121          13042  41.900959  -87.623779  41.900959 -87.623779  \n",
       "123          13157  41.877728  -87.654785  41.877728 -87.654785  "
      ]
     },
     "execution_count": 5,
     "metadata": {},
     "output_type": "execute_result"
    }
   ],
   "source": [
    "df.head()"
   ]
  },
  {
   "cell_type": "code",
   "execution_count": 6,
   "id": "ce1445a1",
   "metadata": {},
   "outputs": [
    {
     "data": {
      "text/plain": [
       "member    2641236\n",
       "casual    1929410\n",
       "Name: member_type, dtype: int64"
      ]
     },
     "execution_count": 6,
     "metadata": {},
     "output_type": "execute_result"
    }
   ],
   "source": [
    "df['member_type'].value_counts()"
   ]
  },
  {
   "cell_type": "code",
   "execution_count": 7,
   "id": "ee617783",
   "metadata": {},
   "outputs": [],
   "source": [
    "# Replace 'member' to 'annual' for readability and context\n",
    "df['member_type'] = df['member_type'].replace({'member':'annual'})"
   ]
  },
  {
   "cell_type": "code",
   "execution_count": 8,
   "id": "1ab5136e",
   "metadata": {},
   "outputs": [
    {
     "data": {
      "text/plain": [
       "annual    2641236\n",
       "casual    1929410\n",
       "Name: member_type, dtype: int64"
      ]
     },
     "execution_count": 8,
     "metadata": {},
     "output_type": "execute_result"
    }
   ],
   "source": [
    "df['member_type'].value_counts()"
   ]
  },
  {
   "cell_type": "code",
   "execution_count": 9,
   "id": "ad0aa635",
   "metadata": {},
   "outputs": [
    {
     "data": {
      "text/plain": [
       "classic_bike     3013450\n",
       "electric_bike    1333630\n",
       "docked_bike       223566\n",
       "Name: rideable_type, dtype: int64"
      ]
     },
     "execution_count": 9,
     "metadata": {},
     "output_type": "execute_result"
    }
   ],
   "source": [
    "# Count each type of bike used\n",
    "df['rideable_type'].value_counts()"
   ]
  },
  {
   "cell_type": "code",
   "execution_count": 10,
   "id": "9f55cf3c",
   "metadata": {},
   "outputs": [
    {
     "data": {
      "text/html": [
       "<div>\n",
       "<style scoped>\n",
       "    .dataframe tbody tr th:only-of-type {\n",
       "        vertical-align: middle;\n",
       "    }\n",
       "\n",
       "    .dataframe tbody tr th {\n",
       "        vertical-align: top;\n",
       "    }\n",
       "\n",
       "    .dataframe thead tr th {\n",
       "        text-align: left;\n",
       "    }\n",
       "\n",
       "    .dataframe thead tr:last-of-type th {\n",
       "        text-align: right;\n",
       "    }\n",
       "</style>\n",
       "<table border=\"1\" class=\"dataframe\">\n",
       "  <thead>\n",
       "    <tr>\n",
       "      <th></th>\n",
       "      <th colspan=\"3\" halign=\"left\">ride_length</th>\n",
       "    </tr>\n",
       "    <tr>\n",
       "      <th></th>\n",
       "      <th>min</th>\n",
       "      <th>max</th>\n",
       "      <th>mean</th>\n",
       "    </tr>\n",
       "    <tr>\n",
       "      <th>member_type</th>\n",
       "      <th></th>\n",
       "      <th></th>\n",
       "      <th></th>\n",
       "    </tr>\n",
       "  </thead>\n",
       "  <tbody>\n",
       "    <tr>\n",
       "      <th>annual</th>\n",
       "      <td>46.0</td>\n",
       "      <td>89575.0</td>\n",
       "      <td>766.665222</td>\n",
       "    </tr>\n",
       "    <tr>\n",
       "      <th>casual</th>\n",
       "      <td>46.0</td>\n",
       "      <td>2497750.0</td>\n",
       "      <td>1598.603027</td>\n",
       "    </tr>\n",
       "  </tbody>\n",
       "</table>\n",
       "</div>"
      ],
      "text/plain": [
       "            ride_length                        \n",
       "                    min        max         mean\n",
       "member_type                                    \n",
       "annual             46.0    89575.0   766.665222\n",
       "casual             46.0  2497750.0  1598.603027"
      ]
     },
     "execution_count": 10,
     "metadata": {},
     "output_type": "execute_result"
    }
   ],
   "source": [
    "# Compare the min, max, and average ride_length for casual riders and annual riders\n",
    "df.groupby('member_type').agg({'ride_length': ['min','max','mean']})"
   ]
  },
  {
   "cell_type": "code",
   "execution_count": 11,
   "id": "562a702b",
   "metadata": {},
   "outputs": [
    {
     "data": {
      "text/plain": [
       "Streeter Dr & Grand Ave                 75996\n",
       "DuSable Lake Shore Dr & North Blvd      42807\n",
       "DuSable Lake Shore Dr & Monroe St       40784\n",
       "Michigan Ave & Oak St                   40648\n",
       "Wells St & Concord Ln                   39550\n",
       "                                        ...  \n",
       "Kedzie & 103rd St - East                    1\n",
       "Bensley Ave & 103rd St                      1\n",
       "Wallace St & 112 St                         1\n",
       "Rockwell & 111th St                         1\n",
       "Public Rack - Stony Island & 87th St        1\n",
       "Name: start_station_name, Length: 1298, dtype: int64"
      ]
     },
     "execution_count": 11,
     "metadata": {},
     "output_type": "execute_result"
    }
   ],
   "source": [
    "# See which stations are the most popular starting points\n",
    "df['start_station_name'].value_counts()"
   ]
  },
  {
   "cell_type": "code",
   "execution_count": 12,
   "id": "7f73eab9",
   "metadata": {},
   "outputs": [
    {
     "data": {
      "text/plain": [
       "Streeter Dr & Grand Ave               77386\n",
       "DuSable Lake Shore Dr & North Blvd    47255\n",
       "Michigan Ave & Oak St                 41496\n",
       "DuSable Lake Shore Dr & Monroe St     39761\n",
       "Wells St & Concord Ln                 39567\n",
       "                                      ...  \n",
       "63rd & Western Ave - south corner         1\n",
       "Justine St & 87th St                      1\n",
       "Baltimore Ave & 132nd St                  1\n",
       "Piotrowski Park                           1\n",
       "Ada St & 119th St                         1\n",
       "Name: end_station_name, Length: 1317, dtype: int64"
      ]
     },
     "execution_count": 12,
     "metadata": {},
     "output_type": "execute_result"
    }
   ],
   "source": [
    "# See which stations are the most popular end points\n",
    "df['end_station_name'].value_counts()"
   ]
  },
  {
   "cell_type": "code",
   "execution_count": 13,
   "id": "14072c91",
   "metadata": {},
   "outputs": [
    {
     "data": {
      "text/plain": [
       "5    768359\n",
       "6    700073\n",
       "3    643907\n",
       "2    621506\n",
       "4    620977\n",
       "1    616674\n",
       "0    599150\n",
       "Name: day_of_week, dtype: int64"
      ]
     },
     "execution_count": 13,
     "metadata": {},
     "output_type": "execute_result"
    }
   ],
   "source": [
    "# See which day is the most popular in the week\n",
    "df['day_of_week'].value_counts()"
   ]
  },
  {
   "cell_type": "code",
   "execution_count": 14,
   "id": "05b9aa45",
   "metadata": {},
   "outputs": [
    {
     "data": {
      "text/plain": [
       "8     667391\n",
       "7     632735\n",
       "9     614528\n",
       "6     611407\n",
       "5     495335\n",
       "10    472454\n",
       "4     269160\n",
       "11    252774\n",
       "3     213396\n",
       "12    174343\n",
       "2      87894\n",
       "1      79229\n",
       "Name: month, dtype: int64"
      ]
     },
     "execution_count": 14,
     "metadata": {},
     "output_type": "execute_result"
    }
   ],
   "source": [
    "# See which month is the most popular for riding\n",
    "df['month'].value_counts()"
   ]
  },
  {
   "cell_type": "code",
   "execution_count": 15,
   "id": "0448e9a0",
   "metadata": {},
   "outputs": [],
   "source": [
    "# Create a crosstab to identify what type of bikes each type of member uses\n",
    "bike_crosstab = pd.crosstab(df['member_type'], df['rideable_type'])"
   ]
  },
  {
   "cell_type": "code",
   "execution_count": 16,
   "id": "0f92663f",
   "metadata": {},
   "outputs": [
    {
     "data": {
      "text/html": [
       "<div>\n",
       "<style scoped>\n",
       "    .dataframe tbody tr th:only-of-type {\n",
       "        vertical-align: middle;\n",
       "    }\n",
       "\n",
       "    .dataframe tbody tr th {\n",
       "        vertical-align: top;\n",
       "    }\n",
       "\n",
       "    .dataframe thead th {\n",
       "        text-align: right;\n",
       "    }\n",
       "</style>\n",
       "<table border=\"1\" class=\"dataframe\">\n",
       "  <thead>\n",
       "    <tr style=\"text-align: right;\">\n",
       "      <th>rideable_type</th>\n",
       "      <th>classic_bike</th>\n",
       "      <th>docked_bike</th>\n",
       "      <th>electric_bike</th>\n",
       "    </tr>\n",
       "    <tr>\n",
       "      <th>member_type</th>\n",
       "      <th></th>\n",
       "      <th></th>\n",
       "      <th></th>\n",
       "    </tr>\n",
       "  </thead>\n",
       "  <tbody>\n",
       "    <tr>\n",
       "      <th>annual</th>\n",
       "      <td>1895671</td>\n",
       "      <td>0</td>\n",
       "      <td>745565</td>\n",
       "    </tr>\n",
       "    <tr>\n",
       "      <th>casual</th>\n",
       "      <td>1117779</td>\n",
       "      <td>223566</td>\n",
       "      <td>588065</td>\n",
       "    </tr>\n",
       "  </tbody>\n",
       "</table>\n",
       "</div>"
      ],
      "text/plain": [
       "rideable_type  classic_bike  docked_bike  electric_bike\n",
       "member_type                                            \n",
       "annual              1895671            0         745565\n",
       "casual              1117779       223566         588065"
      ]
     },
     "execution_count": 16,
     "metadata": {},
     "output_type": "execute_result"
    }
   ],
   "source": [
    "bike_crosstab"
   ]
  },
  {
   "cell_type": "markdown",
   "id": "d8ae777a",
   "metadata": {},
   "source": [
    "#### This shows that annual members do not use any docked bikes, with a preference for classic and electric bikes."
   ]
  },
  {
   "cell_type": "code",
   "execution_count": 17,
   "id": "bc76fb6e",
   "metadata": {},
   "outputs": [],
   "source": [
    "# Create a crosstab to identify which day of the week annual and casual riders ride the most\n",
    "dayofweek_crosstab = pd.crosstab(df['member_type'], df['day_of_week'])"
   ]
  },
  {
   "cell_type": "code",
   "execution_count": 18,
   "id": "f56bc485",
   "metadata": {},
   "outputs": [
    {
     "data": {
      "text/html": [
       "<div>\n",
       "<style scoped>\n",
       "    .dataframe tbody tr th:only-of-type {\n",
       "        vertical-align: middle;\n",
       "    }\n",
       "\n",
       "    .dataframe tbody tr th {\n",
       "        vertical-align: top;\n",
       "    }\n",
       "\n",
       "    .dataframe thead th {\n",
       "        text-align: right;\n",
       "    }\n",
       "</style>\n",
       "<table border=\"1\" class=\"dataframe\">\n",
       "  <thead>\n",
       "    <tr style=\"text-align: right;\">\n",
       "      <th>day_of_week</th>\n",
       "      <th>0</th>\n",
       "      <th>1</th>\n",
       "      <th>2</th>\n",
       "      <th>3</th>\n",
       "      <th>4</th>\n",
       "      <th>5</th>\n",
       "      <th>6</th>\n",
       "    </tr>\n",
       "    <tr>\n",
       "      <th>member_type</th>\n",
       "      <th></th>\n",
       "      <th></th>\n",
       "      <th></th>\n",
       "      <th></th>\n",
       "      <th></th>\n",
       "      <th></th>\n",
       "      <th></th>\n",
       "    </tr>\n",
       "  </thead>\n",
       "  <tbody>\n",
       "    <tr>\n",
       "      <th>annual</th>\n",
       "      <td>372169</td>\n",
       "      <td>414218</td>\n",
       "      <td>412974</td>\n",
       "      <td>408746</td>\n",
       "      <td>359822</td>\n",
       "      <td>350023</td>\n",
       "      <td>323284</td>\n",
       "    </tr>\n",
       "    <tr>\n",
       "      <th>casual</th>\n",
       "      <td>226981</td>\n",
       "      <td>202456</td>\n",
       "      <td>208532</td>\n",
       "      <td>235161</td>\n",
       "      <td>261155</td>\n",
       "      <td>418336</td>\n",
       "      <td>376789</td>\n",
       "    </tr>\n",
       "  </tbody>\n",
       "</table>\n",
       "</div>"
      ],
      "text/plain": [
       "day_of_week       0       1       2       3       4       5       6\n",
       "member_type                                                        \n",
       "annual       372169  414218  412974  408746  359822  350023  323284\n",
       "casual       226981  202456  208532  235161  261155  418336  376789"
      ]
     },
     "execution_count": 18,
     "metadata": {},
     "output_type": "execute_result"
    }
   ],
   "source": [
    "dayofweek_crosstab"
   ]
  },
  {
   "cell_type": "code",
   "execution_count": 19,
   "id": "4d527855",
   "metadata": {},
   "outputs": [],
   "source": [
    "# Create a crosstab to identify which month annual and casual riders ride the most\n",
    "month_crosstab = pd.crosstab(df['member_type'], df['month'])"
   ]
  },
  {
   "cell_type": "code",
   "execution_count": 20,
   "id": "3ce3e833",
   "metadata": {},
   "outputs": [
    {
     "data": {
      "text/html": [
       "<div>\n",
       "<style scoped>\n",
       "    .dataframe tbody tr th:only-of-type {\n",
       "        vertical-align: middle;\n",
       "    }\n",
       "\n",
       "    .dataframe tbody tr th {\n",
       "        vertical-align: top;\n",
       "    }\n",
       "\n",
       "    .dataframe thead th {\n",
       "        text-align: right;\n",
       "    }\n",
       "</style>\n",
       "<table border=\"1\" class=\"dataframe\">\n",
       "  <thead>\n",
       "    <tr style=\"text-align: right;\">\n",
       "      <th>month</th>\n",
       "      <th>1</th>\n",
       "      <th>2</th>\n",
       "      <th>3</th>\n",
       "      <th>4</th>\n",
       "      <th>5</th>\n",
       "      <th>6</th>\n",
       "      <th>7</th>\n",
       "      <th>8</th>\n",
       "      <th>9</th>\n",
       "      <th>10</th>\n",
       "      <th>11</th>\n",
       "      <th>12</th>\n",
       "    </tr>\n",
       "    <tr>\n",
       "      <th>member_type</th>\n",
       "      <th></th>\n",
       "      <th></th>\n",
       "      <th></th>\n",
       "      <th></th>\n",
       "      <th></th>\n",
       "      <th></th>\n",
       "      <th></th>\n",
       "      <th></th>\n",
       "      <th></th>\n",
       "      <th></th>\n",
       "      <th></th>\n",
       "      <th></th>\n",
       "    </tr>\n",
       "  </thead>\n",
       "  <tbody>\n",
       "    <tr>\n",
       "      <th>annual</th>\n",
       "      <td>66731</td>\n",
       "      <td>72895</td>\n",
       "      <td>146858</td>\n",
       "      <td>178167</td>\n",
       "      <td>277888</td>\n",
       "      <td>323090</td>\n",
       "      <td>325231</td>\n",
       "      <td>328639</td>\n",
       "      <td>323944</td>\n",
       "      <td>284808</td>\n",
       "      <td>183377</td>\n",
       "      <td>129608</td>\n",
       "    </tr>\n",
       "    <tr>\n",
       "      <th>casual</th>\n",
       "      <td>12498</td>\n",
       "      <td>14999</td>\n",
       "      <td>66538</td>\n",
       "      <td>90993</td>\n",
       "      <td>217447</td>\n",
       "      <td>288317</td>\n",
       "      <td>307504</td>\n",
       "      <td>338752</td>\n",
       "      <td>290584</td>\n",
       "      <td>187646</td>\n",
       "      <td>69397</td>\n",
       "      <td>44735</td>\n",
       "    </tr>\n",
       "  </tbody>\n",
       "</table>\n",
       "</div>"
      ],
      "text/plain": [
       "month           1      2       3       4       5       6       7       8   \\\n",
       "member_type                                                                 \n",
       "annual       66731  72895  146858  178167  277888  323090  325231  328639   \n",
       "casual       12498  14999   66538   90993  217447  288317  307504  338752   \n",
       "\n",
       "month            9       10      11      12  \n",
       "member_type                                  \n",
       "annual       323944  284808  183377  129608  \n",
       "casual       290584  187646   69397   44735  "
      ]
     },
     "execution_count": 20,
     "metadata": {},
     "output_type": "execute_result"
    }
   ],
   "source": [
    "month_crosstab"
   ]
  },
  {
   "cell_type": "code",
   "execution_count": 21,
   "id": "60576af8",
   "metadata": {},
   "outputs": [
    {
     "data": {
      "text/plain": [
       "Streeter Dr & Grand Ave               75996\n",
       "DuSable Lake Shore Dr & North Blvd    42807\n",
       "DuSable Lake Shore Dr & Monroe St     40784\n",
       "Michigan Ave & Oak St                 40648\n",
       "Wells St & Concord Ln                 39550\n",
       "Millennium Park                       36223\n",
       "Clark St & Elm St                     35980\n",
       "Theater on the Lake                   34349\n",
       "Wells St & Elm St                     33789\n",
       "Kingsbury St & Kinzie St              33739\n",
       "Name: start_station_name, dtype: int64"
      ]
     },
     "execution_count": 21,
     "metadata": {},
     "output_type": "execute_result"
    }
   ],
   "source": [
    "df['start_station_name'].value_counts().head(10)"
   ]
  },
  {
   "cell_type": "code",
   "execution_count": 22,
   "id": "f393ae02",
   "metadata": {},
   "outputs": [
    {
     "data": {
      "text/plain": [
       "member_type  start_station_name                \n",
       "annual       Kingsbury St & Kinzie St              24924\n",
       "             Clark St & Elm St                     22162\n",
       "             Wells St & Concord Ln                 21981\n",
       "             Wells St & Elm St                     19425\n",
       "             Clinton St & Madison St               18600\n",
       "casual       Streeter Dr & Grand Ave               59649\n",
       "             DuSable Lake Shore Dr & Monroe St     31373\n",
       "             Millennium Park                       27395\n",
       "             Michigan Ave & Oak St                 26562\n",
       "             DuSable Lake Shore Dr & North Blvd    25710\n",
       "Name: start_station_name, dtype: int64"
      ]
     },
     "execution_count": 22,
     "metadata": {},
     "output_type": "execute_result"
    }
   ],
   "source": [
    "# Check the top 5 starting stations for each type of member\n",
    "df.groupby(['member_type']).start_station_name.value_counts().groupby(level=0, group_keys=False).head(5)"
   ]
  },
  {
   "cell_type": "code",
   "execution_count": 23,
   "id": "bd51ebf9",
   "metadata": {},
   "outputs": [
    {
     "data": {
      "text/plain": [
       "member_type  end_station_name                  \n",
       "annual       Kingsbury St & Kinzie St              24688\n",
       "             Wells St & Concord Ln                 22549\n",
       "             Clark St & Elm St                     22373\n",
       "             Wells St & Elm St                     19465\n",
       "             Clinton St & Washington Blvd          19238\n",
       "casual       Streeter Dr & Grand Ave               62512\n",
       "             DuSable Lake Shore Dr & North Blvd    29931\n",
       "             DuSable Lake Shore Dr & Monroe St     29452\n",
       "             Millennium Park                       28927\n",
       "             Michigan Ave & Oak St                 28307\n",
       "Name: end_station_name, dtype: int64"
      ]
     },
     "execution_count": 23,
     "metadata": {},
     "output_type": "execute_result"
    }
   ],
   "source": [
    "# Check the top 5 ending stations for each type of member\n",
    "df.groupby(['member_type']).end_station_name.value_counts().groupby(level=0, group_keys=False).head(5)"
   ]
  },
  {
   "cell_type": "markdown",
   "id": "155979be",
   "metadata": {},
   "source": [
    "# 03. Visualizations"
   ]
  },
  {
   "cell_type": "code",
   "execution_count": 24,
   "id": "6f6e2056",
   "metadata": {},
   "outputs": [
    {
     "data": {
      "image/png": "[encoded data removed]",
      "text/plain": [
       "<Figure size 576x432 with 1 Axes>"
      ]
     },
     "metadata": {},
     "output_type": "display_data"
    }
   ],
   "source": [
    "# Create a pie chart displaying the types of riders\n",
    "member_pie = df['member_type'].value_counts()\n",
    "membertype_pie = member_pie.plot.pie(label = '', labels = ['Annual', 'Casual'], autopct=('%1.f%%'), colors=['#8FB8DE', '#CDF7F6'], textprops={'fontsize': 15}, figsize=[8,6])"
   ]
  },
  {
   "cell_type": "code",
   "execution_count": 25,
   "id": "add94a5d",
   "metadata": {},
   "outputs": [
    {
     "data": {
      "image/png": "[encoded data removed]",
      "text/plain": [
       "<Figure size 576x432 with 1 Axes>"
      ]
     },
     "metadata": {
      "needs_background": "light"
     },
     "output_type": "display_data"
    }
   ],
   "source": [
    "# Create a bar chart displaying the types of bikes \n",
    "bike_bar = df['rideable_type'].value_counts().loc[['classic_bike', 'electric_bike', 'docked_bike']].plot.bar(figsize = [8,6], color='#93B5B3')\n",
    "plt.title('Types of Bikes', fontdict = {'fontsize': 16} )\n",
    "plt.ticklabel_format(style='plain', axis='y')\n",
    "plt.tick_params(axis='x', labelsize=14)\n",
    "plt.tick_params(axis='y', labelsize=14)\n",
    "plt.show()"
   ]
  },
  {
   "cell_type": "code",
   "execution_count": 26,
   "id": "d86aa4c4",
   "metadata": {},
   "outputs": [],
   "source": [
    "# Change the day_of_week column to a string\n",
    "df['day_of_week'] = df['day_of_week'].astype('str')"
   ]
  },
  {
   "cell_type": "code",
   "execution_count": 27,
   "id": "1bc8514e",
   "metadata": {},
   "outputs": [],
   "source": [
    "# Replace the numerical values with its corresponding day values\n",
    "df['day_of_week'].replace({'0': 'Monday', '1': 'Tuesday', '2': 'Wednesday', '3': 'Thursday', '4': 'Friday', '5': 'Saturday', '6': 'Sunday'}, inplace = True)"
   ]
  },
  {
   "cell_type": "code",
   "execution_count": 28,
   "id": "b12f7588",
   "metadata": {},
   "outputs": [
    {
     "data": {
      "image/png": "[encoded data removed]",
      "text/plain": [
       "<Figure size 432x288 with 1 Axes>"
      ]
     },
     "metadata": {
      "needs_background": "light"
     },
     "output_type": "display_data"
    }
   ],
   "source": [
    "# Create a bar chart displaying the number of rides for each day of the week\n",
    "day_bar = df['day_of_week'].value_counts().loc[['Monday','Tuesday', 'Wednesday', 'Thursday', 'Friday', 'Saturday', 'Sunday']].plot.bar(color='#3E588F')\n",
    "plt.title('Day of Week', fontdict = {'fontsize': 16})\n",
    "plt.tick_params(axis='x', labelsize=12)\n",
    "plt.tick_params(axis='y', labelsize=12)"
   ]
  },
  {
   "cell_type": "code",
   "execution_count": 29,
   "id": "13c7793c",
   "metadata": {},
   "outputs": [],
   "source": [
    "# Change the month column to a string\n",
    "df['month'] = df['month'].astype('str')"
   ]
  },
  {
   "cell_type": "code",
   "execution_count": 30,
   "id": "66cdb3e2",
   "metadata": {},
   "outputs": [],
   "source": [
    "# Replace the numerical values with its corresponding day values\n",
    "df['month'].replace({'1': 'January', '2': 'February', '3': 'March', '4': 'April', '5': 'May', '6': 'June', '7': 'July', '8': 'August',\n",
    "                 '9': 'September', '10': 'October', '11': 'November', '12': 'December'}, inplace = True)"
   ]
  },
  {
   "cell_type": "code",
   "execution_count": 31,
   "id": "47d58479",
   "metadata": {},
   "outputs": [
    {
     "data": {
      "image/png": "[encoded data removed]",
      "text/plain": [
       "<Figure size 432x288 with 1 Axes>"
      ]
     },
     "metadata": {
      "needs_background": "light"
     },
     "output_type": "display_data"
    }
   ],
   "source": [
    "# Create a bar chart displaying the number of rides for each month of the year\n",
    "month_bar = df['month'].value_counts().loc[['January', 'February', 'March', 'April', 'May', 'June', 'July', 'August', 'September',\n",
    "                                        'October', 'November', 'December']].plot.bar(color='#FFAB4C')\n",
    "plt.title('Month', fontdict = {'fontsize': 16})\n",
    "plt.tick_params(axis='x', labelsize=14)\n",
    "plt.tick_params(axis='y', labelsize=14)"
   ]
  },
  {
   "cell_type": "code",
   "execution_count": 32,
   "id": "e1fe19b9",
   "metadata": {},
   "outputs": [
    {
     "data": {
      "image/png": "[encoded data removed]",
      "text/plain": [
       "<Figure size 864x720 with 1 Axes>"
      ]
     },
     "metadata": {
      "needs_background": "light"
     },
     "output_type": "display_data"
    }
   ],
   "source": [
    "# Create a horizontal bar chart for the top 10 stations riders start at\n",
    "station_bar = df['start_station_name'].value_counts().head(10).sort_values().plot.barh(fontsize=13, figsize =[12,10])\n",
    "plt.title('Top 10 Starting Points', fontdict = {'fontsize': 16})\n",
    "plt.xlabel('# of Times Riders Started', fontdict = {'fontsize': 14})\n",
    "plt.show()"
   ]
  },
  {
   "cell_type": "markdown",
   "id": "0fa5710e",
   "metadata": {},
   "source": [
    "# 05. Export the visualizations"
   ]
  },
  {
   "cell_type": "code",
   "execution_count": 33,
   "id": "a0c8e89d",
   "metadata": {},
   "outputs": [],
   "source": [
    "# Export the member type pie chart\n",
    "membertype_pie.figure.savefig(os.path.join(path, '03. Visualizations', 'member_pie_chart.png'))"
   ]
  },
  {
   "cell_type": "code",
   "execution_count": 34,
   "id": "ccee54bf",
   "metadata": {},
   "outputs": [],
   "source": [
    "# Export the bike type bar chart\n",
    "bike_bar.figure.savefig(os.path.join(path, '03. Visualizations', 'bike_type_barchart.png'))"
   ]
  },
  {
   "cell_type": "code",
   "execution_count": 35,
   "id": "5b5f7ea3",
   "metadata": {},
   "outputs": [],
   "source": [
    "# Export the day of week bar chart\n",
    "day_bar.figure.savefig(os.path.join(path, '03. Visualizations', 'day_barchart.png'))"
   ]
  },
  {
   "cell_type": "code",
   "execution_count": 36,
   "id": "dff4dd2d",
   "metadata": {},
   "outputs": [],
   "source": [
    "# Export the month bar chart\n",
    "month_bar.figure.savefig(os.path.join (path, '03. Visualizations', 'month_barchart.png'))"
   ]
  },
  {
   "cell_type": "code",
   "execution_count": 37,
   "id": "c446f279",
   "metadata": {},
   "outputs": [],
   "source": [
    "# Export the starting station horizontal bar chart\n",
    "station_bar.figure.savefig(os.path.join (path, '03. Visualizations', 'station_hbarchart.png'))"
   ]
  },
  {
   "cell_type": "code",
   "execution_count": 38,
   "id": "37e34553",
   "metadata": {},
   "outputs": [],
   "source": [
    "# Export the final dataaset\n",
    "df.to_csv(os.path.join (path, 'Data', 'Prepared Data', 'final_dataset.csv'))"
   ]
  }
 ],
 "metadata": {
  "kernelspec": {
   "display_name": "Python 3 (ipykernel)",
   "language": "python",
   "name": "python3"
  },
  "language_info": {
   "codemirror_mode": {
    "name": "ipython",
    "version": 3
   },
   "file_extension": ".py",
   "mimetype": "text/x-python",
   "name": "python",
   "nbconvert_exporter": "python",
   "pygments_lexer": "ipython3",
   "version": "3.9.12"
  }
 },
 "nbformat": 4,
 "nbformat_minor": 5
}
