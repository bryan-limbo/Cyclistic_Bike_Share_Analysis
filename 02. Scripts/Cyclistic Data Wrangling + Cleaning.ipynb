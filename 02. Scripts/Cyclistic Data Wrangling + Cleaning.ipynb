{
 "cells": [
  {
   "cell_type": "code",
   "execution_count": 1,
   "id": "48f5c1ba",
   "metadata": {},
   "outputs": [
    {
     "data": {
      "text/plain": [
       "200"
      ]
     },
     "execution_count": 1,
     "metadata": {},
     "output_type": "execute_result"
    }
   ],
   "source": [
    "import gc\n",
    "gc.collect()"
   ]
  },
  {
   "cell_type": "markdown",
   "id": "ce0f259f",
   "metadata": {},
   "source": [
    "# 01. Import libraries"
   ]
  },
  {
   "cell_type": "code",
   "execution_count": 2,
   "id": "d41a3d88",
   "metadata": {},
   "outputs": [],
   "source": [
    "import pandas as pd\n",
    "import numpy as np\n",
    "import os\n",
    "import seaborn as sns\n",
    "import matplotlib.pyplot as plt\n",
    "import scipy\n",
    "from datetime import datetime"
   ]
  },
  {
   "cell_type": "code",
   "execution_count": 3,
   "id": "3a4370ac",
   "metadata": {},
   "outputs": [],
   "source": [
    "# Create a path for easier importing\n",
    "path = r'C:\\Users\\blim9\\Desktop\\Google Data Analytics\\Case Study'"
   ]
  },
  {
   "cell_type": "code",
   "execution_count": 4,
   "id": "40024a96",
   "metadata": {},
   "outputs": [],
   "source": [
    "# Import the datasets\n",
    "df = pd.read_csv(os.path.join (path, 'Data', 'Monthly Data', '202108-divvy-tripdata.csv'), index_col = False)\n",
    "df2 = pd.read_csv(os.path.join (path, 'Data', 'Monthly Data', '202109-divvy-tripdata.csv'), index_col = False)\n",
    "df3 = pd.read_csv(os.path.join (path, 'Data', 'Monthly Data', '202110-divvy-tripdata.csv'), index_col = False)\n",
    "df4 = pd.read_csv(os.path.join (path, 'Data', 'Monthly Data', '202111-divvy-tripdata.csv'), index_col = False)\n",
    "df5 = pd.read_csv(os.path.join (path, 'Data', 'Monthly Data', '202112-divvy-tripdata.csv'), index_col = False)\n",
    "df6 = pd.read_csv(os.path.join (path, 'Data', 'Monthly Data', '202201-divvy-tripdata.csv'), index_col = False)\n",
    "df7 = pd.read_csv(os.path.join (path, 'Data', 'Monthly Data', '202202-divvy-tripdata.csv'), index_col = False)\n",
    "df8 = pd.read_csv(os.path.join (path, 'Data', 'Monthly Data', '202203-divvy-tripdata.csv'), index_col = False)\n",
    "df9 = pd.read_csv(os.path.join (path, 'Data', 'Monthly Data', '202204-divvy-tripdata.csv'), index_col = False)\n",
    "df10 = pd.read_csv(os.path.join (path, 'Data', 'Monthly Data', '202205-divvy-tripdata.csv'), index_col = False)\n",
    "df11 = pd.read_csv(os.path.join (path, 'Data', 'Monthly Data', '202206-divvy-tripdata.csv'), index_col = False)\n",
    "df12 = pd.read_csv(os.path.join (path, 'Data', 'Monthly Data', '202207-divvy-tripdata.csv'), index_col = False)"
   ]
  },
  {
   "cell_type": "markdown",
   "id": "0871e757",
   "metadata": {},
   "source": [
    "# 02. Data wrangling"
   ]
  },
  {
   "cell_type": "markdown",
   "id": "8f369312",
   "metadata": {},
   "source": [
    "### Check the number of rows and columns for each dataset"
   ]
  },
  {
   "cell_type": "code",
   "execution_count": 5,
   "id": "03101565",
   "metadata": {},
   "outputs": [
    {
     "data": {
      "text/plain": [
       "(804352, 13)"
      ]
     },
     "execution_count": 5,
     "metadata": {},
     "output_type": "execute_result"
    }
   ],
   "source": [
    "df.shape"
   ]
  },
  {
   "cell_type": "code",
   "execution_count": 6,
   "id": "e5321586",
   "metadata": {},
   "outputs": [
    {
     "data": {
      "text/plain": [
       "(756147, 13)"
      ]
     },
     "execution_count": 6,
     "metadata": {},
     "output_type": "execute_result"
    }
   ],
   "source": [
    "df2.shape"
   ]
  },
  {
   "cell_type": "code",
   "execution_count": 7,
   "id": "93f01545",
   "metadata": {},
   "outputs": [
    {
     "data": {
      "text/plain": [
       "(631226, 13)"
      ]
     },
     "execution_count": 7,
     "metadata": {},
     "output_type": "execute_result"
    }
   ],
   "source": [
    "df3.shape"
   ]
  },
  {
   "cell_type": "code",
   "execution_count": 8,
   "id": "a2ef3940",
   "metadata": {},
   "outputs": [
    {
     "data": {
      "text/plain": [
       "(359978, 13)"
      ]
     },
     "execution_count": 8,
     "metadata": {},
     "output_type": "execute_result"
    }
   ],
   "source": [
    "df4.shape"
   ]
  },
  {
   "cell_type": "code",
   "execution_count": 9,
   "id": "ffae59ba",
   "metadata": {},
   "outputs": [
    {
     "data": {
      "text/plain": [
       "(247540, 13)"
      ]
     },
     "execution_count": 9,
     "metadata": {},
     "output_type": "execute_result"
    }
   ],
   "source": [
    "df5.shape"
   ]
  },
  {
   "cell_type": "code",
   "execution_count": 10,
   "id": "67cfb4ae",
   "metadata": {},
   "outputs": [
    {
     "data": {
      "text/plain": [
       "(103770, 13)"
      ]
     },
     "execution_count": 10,
     "metadata": {},
     "output_type": "execute_result"
    }
   ],
   "source": [
    "df6.shape"
   ]
  },
  {
   "cell_type": "code",
   "execution_count": 11,
   "id": "2c5eaae1",
   "metadata": {},
   "outputs": [
    {
     "data": {
      "text/plain": [
       "(115609, 13)"
      ]
     },
     "execution_count": 11,
     "metadata": {},
     "output_type": "execute_result"
    }
   ],
   "source": [
    "df7.shape"
   ]
  },
  {
   "cell_type": "code",
   "execution_count": 12,
   "id": "5ffc46ce",
   "metadata": {},
   "outputs": [
    {
     "data": {
      "text/plain": [
       "(284042, 13)"
      ]
     },
     "execution_count": 12,
     "metadata": {},
     "output_type": "execute_result"
    }
   ],
   "source": [
    "df8.shape"
   ]
  },
  {
   "cell_type": "code",
   "execution_count": 13,
   "id": "039c5ee2",
   "metadata": {},
   "outputs": [
    {
     "data": {
      "text/plain": [
       "(371249, 13)"
      ]
     },
     "execution_count": 13,
     "metadata": {},
     "output_type": "execute_result"
    }
   ],
   "source": [
    "df9.shape"
   ]
  },
  {
   "cell_type": "code",
   "execution_count": 14,
   "id": "563df986",
   "metadata": {},
   "outputs": [
    {
     "data": {
      "text/plain": [
       "(634858, 13)"
      ]
     },
     "execution_count": 14,
     "metadata": {},
     "output_type": "execute_result"
    }
   ],
   "source": [
    "df10.shape"
   ]
  },
  {
   "cell_type": "code",
   "execution_count": 15,
   "id": "b691f1fe",
   "metadata": {},
   "outputs": [
    {
     "data": {
      "text/plain": [
       "(769204, 13)"
      ]
     },
     "execution_count": 15,
     "metadata": {},
     "output_type": "execute_result"
    }
   ],
   "source": [
    "df11.shape"
   ]
  },
  {
   "cell_type": "code",
   "execution_count": 16,
   "id": "15f78d14",
   "metadata": {},
   "outputs": [
    {
     "data": {
      "text/plain": [
       "(823488, 13)"
      ]
     },
     "execution_count": 16,
     "metadata": {},
     "output_type": "execute_result"
    }
   ],
   "source": [
    "df12.shape"
   ]
  },
  {
   "cell_type": "markdown",
   "id": "5a697fca",
   "metadata": {},
   "source": [
    "#### As the data sets have the same number of columns and column names, I will concatenante it into one data set. This makes it easier to wrangle the data instead of doing each one (12 times)."
   ]
  },
  {
   "cell_type": "code",
   "execution_count": 17,
   "id": "31e9bf0f",
   "metadata": {},
   "outputs": [],
   "source": [
    "# Concat the 12 data sets together \n",
    "df_combine = (df,df2,df3,df4,df5,df6,df7,df8,df9,df10,df11,df12)"
   ]
  },
  {
   "cell_type": "code",
   "execution_count": 18,
   "id": "81dac213",
   "metadata": {},
   "outputs": [],
   "source": [
    "df_merged = pd.concat(df_combine)"
   ]
  },
  {
   "cell_type": "code",
   "execution_count": 19,
   "id": "7a065e93",
   "metadata": {},
   "outputs": [
    {
     "data": {
      "text/plain": [
       "(5901463, 13)"
      ]
     },
     "execution_count": 19,
     "metadata": {},
     "output_type": "execute_result"
    }
   ],
   "source": [
    "df_merged.shape"
   ]
  },
  {
   "cell_type": "code",
   "execution_count": 20,
   "id": "cfdf3ea0",
   "metadata": {},
   "outputs": [
    {
     "data": {
      "text/html": [
       "<div>\n",
       "<style scoped>\n",
       "    .dataframe tbody tr th:only-of-type {\n",
       "        vertical-align: middle;\n",
       "    }\n",
       "\n",
       "    .dataframe tbody tr th {\n",
       "        vertical-align: top;\n",
       "    }\n",
       "\n",
       "    .dataframe thead th {\n",
       "        text-align: right;\n",
       "    }\n",
       "</style>\n",
       "<table border=\"1\" class=\"dataframe\">\n",
       "  <thead>\n",
       "    <tr style=\"text-align: right;\">\n",
       "      <th></th>\n",
       "      <th>ride_id</th>\n",
       "      <th>rideable_type</th>\n",
       "      <th>started_at</th>\n",
       "      <th>ended_at</th>\n",
       "      <th>start_station_name</th>\n",
       "      <th>start_station_id</th>\n",
       "      <th>end_station_name</th>\n",
       "      <th>end_station_id</th>\n",
       "      <th>start_lat</th>\n",
       "      <th>start_lng</th>\n",
       "      <th>end_lat</th>\n",
       "      <th>end_lng</th>\n",
       "      <th>member_casual</th>\n",
       "    </tr>\n",
       "  </thead>\n",
       "  <tbody>\n",
       "    <tr>\n",
       "      <th>0</th>\n",
       "      <td>99103BB87CC6C1BB</td>\n",
       "      <td>electric_bike</td>\n",
       "      <td>2021-08-10 17:15:49</td>\n",
       "      <td>2021-08-10 17:22:44</td>\n",
       "      <td>NaN</td>\n",
       "      <td>NaN</td>\n",
       "      <td>NaN</td>\n",
       "      <td>NaN</td>\n",
       "      <td>41.77</td>\n",
       "      <td>-87.68</td>\n",
       "      <td>41.77</td>\n",
       "      <td>-87.68</td>\n",
       "      <td>member</td>\n",
       "    </tr>\n",
       "    <tr>\n",
       "      <th>1</th>\n",
       "      <td>EAFCCCFB0A3FC5A1</td>\n",
       "      <td>electric_bike</td>\n",
       "      <td>2021-08-10 17:23:14</td>\n",
       "      <td>2021-08-10 17:39:24</td>\n",
       "      <td>NaN</td>\n",
       "      <td>NaN</td>\n",
       "      <td>NaN</td>\n",
       "      <td>NaN</td>\n",
       "      <td>41.77</td>\n",
       "      <td>-87.68</td>\n",
       "      <td>41.77</td>\n",
       "      <td>-87.63</td>\n",
       "      <td>member</td>\n",
       "    </tr>\n",
       "    <tr>\n",
       "      <th>2</th>\n",
       "      <td>9EF4F46C57AD234D</td>\n",
       "      <td>electric_bike</td>\n",
       "      <td>2021-08-21 02:34:23</td>\n",
       "      <td>2021-08-21 02:50:36</td>\n",
       "      <td>NaN</td>\n",
       "      <td>NaN</td>\n",
       "      <td>NaN</td>\n",
       "      <td>NaN</td>\n",
       "      <td>41.95</td>\n",
       "      <td>-87.65</td>\n",
       "      <td>41.97</td>\n",
       "      <td>-87.66</td>\n",
       "      <td>member</td>\n",
       "    </tr>\n",
       "    <tr>\n",
       "      <th>3</th>\n",
       "      <td>5834D3208BFAF1DA</td>\n",
       "      <td>electric_bike</td>\n",
       "      <td>2021-08-21 06:52:55</td>\n",
       "      <td>2021-08-21 07:08:13</td>\n",
       "      <td>NaN</td>\n",
       "      <td>NaN</td>\n",
       "      <td>NaN</td>\n",
       "      <td>NaN</td>\n",
       "      <td>41.97</td>\n",
       "      <td>-87.67</td>\n",
       "      <td>41.95</td>\n",
       "      <td>-87.65</td>\n",
       "      <td>member</td>\n",
       "    </tr>\n",
       "    <tr>\n",
       "      <th>4</th>\n",
       "      <td>CD825CB87ED1D096</td>\n",
       "      <td>electric_bike</td>\n",
       "      <td>2021-08-19 11:55:29</td>\n",
       "      <td>2021-08-19 12:04:11</td>\n",
       "      <td>NaN</td>\n",
       "      <td>NaN</td>\n",
       "      <td>NaN</td>\n",
       "      <td>NaN</td>\n",
       "      <td>41.79</td>\n",
       "      <td>-87.60</td>\n",
       "      <td>41.77</td>\n",
       "      <td>-87.62</td>\n",
       "      <td>member</td>\n",
       "    </tr>\n",
       "  </tbody>\n",
       "</table>\n",
       "</div>"
      ],
      "text/plain": [
       "            ride_id  rideable_type           started_at             ended_at  \\\n",
       "0  99103BB87CC6C1BB  electric_bike  2021-08-10 17:15:49  2021-08-10 17:22:44   \n",
       "1  EAFCCCFB0A3FC5A1  electric_bike  2021-08-10 17:23:14  2021-08-10 17:39:24   \n",
       "2  9EF4F46C57AD234D  electric_bike  2021-08-21 02:34:23  2021-08-21 02:50:36   \n",
       "3  5834D3208BFAF1DA  electric_bike  2021-08-21 06:52:55  2021-08-21 07:08:13   \n",
       "4  CD825CB87ED1D096  electric_bike  2021-08-19 11:55:29  2021-08-19 12:04:11   \n",
       "\n",
       "  start_station_name start_station_id end_station_name end_station_id  \\\n",
       "0                NaN              NaN              NaN            NaN   \n",
       "1                NaN              NaN              NaN            NaN   \n",
       "2                NaN              NaN              NaN            NaN   \n",
       "3                NaN              NaN              NaN            NaN   \n",
       "4                NaN              NaN              NaN            NaN   \n",
       "\n",
       "   start_lat  start_lng  end_lat  end_lng member_casual  \n",
       "0      41.77     -87.68    41.77   -87.68        member  \n",
       "1      41.77     -87.68    41.77   -87.63        member  \n",
       "2      41.95     -87.65    41.97   -87.66        member  \n",
       "3      41.97     -87.67    41.95   -87.65        member  \n",
       "4      41.79     -87.60    41.77   -87.62        member  "
      ]
     },
     "execution_count": 20,
     "metadata": {},
     "output_type": "execute_result"
    }
   ],
   "source": [
    "df_merged.head()"
   ]
  },
  {
   "cell_type": "markdown",
   "id": "a561b976",
   "metadata": {},
   "source": [
    "#### Create a column that calculates the difference in time between the start time and end time"
   ]
  },
  {
   "cell_type": "code",
   "execution_count": 21,
   "id": "f93b318d",
   "metadata": {},
   "outputs": [],
   "source": [
    "# Convert the object type column to a datetime\n",
    "df_merged['started_at']= pd.to_datetime(df_merged['started_at'])"
   ]
  },
  {
   "cell_type": "code",
   "execution_count": 22,
   "id": "c29134f5",
   "metadata": {},
   "outputs": [],
   "source": [
    "# Convert the object type column to a datetime\n",
    "df_merged['ended_at']= pd.to_datetime(df_merged['ended_at'])"
   ]
  },
  {
   "cell_type": "code",
   "execution_count": 23,
   "id": "2caef23b",
   "metadata": {},
   "outputs": [
    {
     "data": {
      "text/plain": [
       "0   2021-08-10 17:15:49\n",
       "1   2021-08-10 17:23:14\n",
       "2   2021-08-21 02:34:23\n",
       "3   2021-08-21 06:52:55\n",
       "4   2021-08-19 11:55:29\n",
       "Name: started_at, dtype: datetime64[ns]"
      ]
     },
     "execution_count": 23,
     "metadata": {},
     "output_type": "execute_result"
    }
   ],
   "source": [
    "df_merged['started_at'].head()"
   ]
  },
  {
   "cell_type": "code",
   "execution_count": 24,
   "id": "aae1a60e",
   "metadata": {},
   "outputs": [
    {
     "data": {
      "text/plain": [
       "0   2021-08-10 17:22:44\n",
       "1   2021-08-10 17:39:24\n",
       "2   2021-08-21 02:50:36\n",
       "3   2021-08-21 07:08:13\n",
       "4   2021-08-19 12:04:11\n",
       "Name: ended_at, dtype: datetime64[ns]"
      ]
     },
     "execution_count": 24,
     "metadata": {},
     "output_type": "execute_result"
    }
   ],
   "source": [
    "df_merged['ended_at'].head()"
   ]
  },
  {
   "cell_type": "code",
   "execution_count": 25,
   "id": "9ad4d3c0",
   "metadata": {},
   "outputs": [],
   "source": [
    "# Calculate the difference between the two times\n",
    "df_merged['ride_length'] = df_merged['ended_at'] - df_merged['started_at']"
   ]
  },
  {
   "cell_type": "code",
   "execution_count": 26,
   "id": "abb19531",
   "metadata": {},
   "outputs": [],
   "source": [
    "# Convert the ride_length time into seconds\n",
    "df_merged['ride_length'] = df_merged['ride_length'].dt.total_seconds()"
   ]
  },
  {
   "cell_type": "code",
   "execution_count": 27,
   "id": "841a8df4",
   "metadata": {},
   "outputs": [],
   "source": [
    "# Convert the ride_length column into HH:MM:SS format, omitting the days\n",
    "#def sec_to_format(s):\n",
    " #   h,s = divmod(int(s),3600)\n",
    "  #  m,s = divmod(s,60)\n",
    "   # return f'{h:02}:{m:02}:{s:02}'\n",
    "\n",
    "#df_merged['ride_length'] = [sec_to_format(s) for s in df_merged['ride_length'].dt.total_seconds()]"
   ]
  },
  {
   "cell_type": "code",
   "execution_count": 28,
   "id": "85dede36",
   "metadata": {},
   "outputs": [
    {
     "data": {
      "text/plain": [
       "0    415.0\n",
       "1    970.0\n",
       "2    973.0\n",
       "3    918.0\n",
       "4    522.0\n",
       "Name: ride_length, dtype: float64"
      ]
     },
     "execution_count": 28,
     "metadata": {},
     "output_type": "execute_result"
    }
   ],
   "source": [
    "df_merged['ride_length'].head()"
   ]
  },
  {
   "cell_type": "markdown",
   "id": "8e313148",
   "metadata": {},
   "source": [
    "#### Create a column that extracts the day of the week from the start date.\n",
    "- Monday = 0\n",
    "- Tuesday = 1\n",
    "- Wednesday = 2\n",
    "- Thursday = 3\n",
    "- Friday = 4\n",
    "- Saturday = 5\n",
    "- Sunday = 6"
   ]
  },
  {
   "cell_type": "code",
   "execution_count": 29,
   "id": "513658b6",
   "metadata": {},
   "outputs": [],
   "source": [
    "df_merged['day_of_week'] = pd.to_datetime(df_merged['started_at']).dt.weekday"
   ]
  },
  {
   "cell_type": "code",
   "execution_count": 30,
   "id": "1a800bb2",
   "metadata": {},
   "outputs": [
    {
     "data": {
      "text/plain": [
       "0    1\n",
       "1    1\n",
       "2    5\n",
       "3    5\n",
       "4    3\n",
       "Name: day_of_week, dtype: int64"
      ]
     },
     "execution_count": 30,
     "metadata": {},
     "output_type": "execute_result"
    }
   ],
   "source": [
    "df_merged['day_of_week'].head()"
   ]
  },
  {
   "cell_type": "code",
   "execution_count": 31,
   "id": "72588e21",
   "metadata": {},
   "outputs": [
    {
     "data": {
      "text/plain": [
       "5    981065\n",
       "6    893604\n",
       "3    838780\n",
       "4    814322\n",
       "2    804431\n",
       "1    797213\n",
       "0    772048\n",
       "Name: day_of_week, dtype: int64"
      ]
     },
     "execution_count": 31,
     "metadata": {},
     "output_type": "execute_result"
    }
   ],
   "source": [
    "df_merged['day_of_week'].value_counts()"
   ]
  },
  {
   "cell_type": "code",
   "execution_count": 32,
   "id": "398b873b",
   "metadata": {},
   "outputs": [
    {
     "data": {
      "text/html": [
       "<div>\n",
       "<style scoped>\n",
       "    .dataframe tbody tr th:only-of-type {\n",
       "        vertical-align: middle;\n",
       "    }\n",
       "\n",
       "    .dataframe tbody tr th {\n",
       "        vertical-align: top;\n",
       "    }\n",
       "\n",
       "    .dataframe thead th {\n",
       "        text-align: right;\n",
       "    }\n",
       "</style>\n",
       "<table border=\"1\" class=\"dataframe\">\n",
       "  <thead>\n",
       "    <tr style=\"text-align: right;\">\n",
       "      <th></th>\n",
       "      <th>ride_id</th>\n",
       "      <th>rideable_type</th>\n",
       "      <th>started_at</th>\n",
       "      <th>ended_at</th>\n",
       "      <th>start_station_name</th>\n",
       "      <th>start_station_id</th>\n",
       "      <th>end_station_name</th>\n",
       "      <th>end_station_id</th>\n",
       "      <th>start_lat</th>\n",
       "      <th>start_lng</th>\n",
       "      <th>end_lat</th>\n",
       "      <th>end_lng</th>\n",
       "      <th>member_casual</th>\n",
       "      <th>ride_length</th>\n",
       "      <th>day_of_week</th>\n",
       "    </tr>\n",
       "  </thead>\n",
       "  <tbody>\n",
       "    <tr>\n",
       "      <th>0</th>\n",
       "      <td>99103BB87CC6C1BB</td>\n",
       "      <td>electric_bike</td>\n",
       "      <td>2021-08-10 17:15:49</td>\n",
       "      <td>2021-08-10 17:22:44</td>\n",
       "      <td>NaN</td>\n",
       "      <td>NaN</td>\n",
       "      <td>NaN</td>\n",
       "      <td>NaN</td>\n",
       "      <td>41.77</td>\n",
       "      <td>-87.68</td>\n",
       "      <td>41.77</td>\n",
       "      <td>-87.68</td>\n",
       "      <td>member</td>\n",
       "      <td>415.0</td>\n",
       "      <td>1</td>\n",
       "    </tr>\n",
       "    <tr>\n",
       "      <th>1</th>\n",
       "      <td>EAFCCCFB0A3FC5A1</td>\n",
       "      <td>electric_bike</td>\n",
       "      <td>2021-08-10 17:23:14</td>\n",
       "      <td>2021-08-10 17:39:24</td>\n",
       "      <td>NaN</td>\n",
       "      <td>NaN</td>\n",
       "      <td>NaN</td>\n",
       "      <td>NaN</td>\n",
       "      <td>41.77</td>\n",
       "      <td>-87.68</td>\n",
       "      <td>41.77</td>\n",
       "      <td>-87.63</td>\n",
       "      <td>member</td>\n",
       "      <td>970.0</td>\n",
       "      <td>1</td>\n",
       "    </tr>\n",
       "    <tr>\n",
       "      <th>2</th>\n",
       "      <td>9EF4F46C57AD234D</td>\n",
       "      <td>electric_bike</td>\n",
       "      <td>2021-08-21 02:34:23</td>\n",
       "      <td>2021-08-21 02:50:36</td>\n",
       "      <td>NaN</td>\n",
       "      <td>NaN</td>\n",
       "      <td>NaN</td>\n",
       "      <td>NaN</td>\n",
       "      <td>41.95</td>\n",
       "      <td>-87.65</td>\n",
       "      <td>41.97</td>\n",
       "      <td>-87.66</td>\n",
       "      <td>member</td>\n",
       "      <td>973.0</td>\n",
       "      <td>5</td>\n",
       "    </tr>\n",
       "    <tr>\n",
       "      <th>3</th>\n",
       "      <td>5834D3208BFAF1DA</td>\n",
       "      <td>electric_bike</td>\n",
       "      <td>2021-08-21 06:52:55</td>\n",
       "      <td>2021-08-21 07:08:13</td>\n",
       "      <td>NaN</td>\n",
       "      <td>NaN</td>\n",
       "      <td>NaN</td>\n",
       "      <td>NaN</td>\n",
       "      <td>41.97</td>\n",
       "      <td>-87.67</td>\n",
       "      <td>41.95</td>\n",
       "      <td>-87.65</td>\n",
       "      <td>member</td>\n",
       "      <td>918.0</td>\n",
       "      <td>5</td>\n",
       "    </tr>\n",
       "    <tr>\n",
       "      <th>4</th>\n",
       "      <td>CD825CB87ED1D096</td>\n",
       "      <td>electric_bike</td>\n",
       "      <td>2021-08-19 11:55:29</td>\n",
       "      <td>2021-08-19 12:04:11</td>\n",
       "      <td>NaN</td>\n",
       "      <td>NaN</td>\n",
       "      <td>NaN</td>\n",
       "      <td>NaN</td>\n",
       "      <td>41.79</td>\n",
       "      <td>-87.60</td>\n",
       "      <td>41.77</td>\n",
       "      <td>-87.62</td>\n",
       "      <td>member</td>\n",
       "      <td>522.0</td>\n",
       "      <td>3</td>\n",
       "    </tr>\n",
       "  </tbody>\n",
       "</table>\n",
       "</div>"
      ],
      "text/plain": [
       "            ride_id  rideable_type          started_at            ended_at  \\\n",
       "0  99103BB87CC6C1BB  electric_bike 2021-08-10 17:15:49 2021-08-10 17:22:44   \n",
       "1  EAFCCCFB0A3FC5A1  electric_bike 2021-08-10 17:23:14 2021-08-10 17:39:24   \n",
       "2  9EF4F46C57AD234D  electric_bike 2021-08-21 02:34:23 2021-08-21 02:50:36   \n",
       "3  5834D3208BFAF1DA  electric_bike 2021-08-21 06:52:55 2021-08-21 07:08:13   \n",
       "4  CD825CB87ED1D096  electric_bike 2021-08-19 11:55:29 2021-08-19 12:04:11   \n",
       "\n",
       "  start_station_name start_station_id end_station_name end_station_id  \\\n",
       "0                NaN              NaN              NaN            NaN   \n",
       "1                NaN              NaN              NaN            NaN   \n",
       "2                NaN              NaN              NaN            NaN   \n",
       "3                NaN              NaN              NaN            NaN   \n",
       "4                NaN              NaN              NaN            NaN   \n",
       "\n",
       "   start_lat  start_lng  end_lat  end_lng member_casual  ride_length  \\\n",
       "0      41.77     -87.68    41.77   -87.68        member        415.0   \n",
       "1      41.77     -87.68    41.77   -87.63        member        970.0   \n",
       "2      41.95     -87.65    41.97   -87.66        member        973.0   \n",
       "3      41.97     -87.67    41.95   -87.65        member        918.0   \n",
       "4      41.79     -87.60    41.77   -87.62        member        522.0   \n",
       "\n",
       "   day_of_week  \n",
       "0            1  \n",
       "1            1  \n",
       "2            5  \n",
       "3            5  \n",
       "4            3  "
      ]
     },
     "execution_count": 32,
     "metadata": {},
     "output_type": "execute_result"
    }
   ],
   "source": [
    "df_merged.head()"
   ]
  },
  {
   "cell_type": "markdown",
   "id": "3ec82955",
   "metadata": {},
   "source": [
    "#### Create a column that extracts the month from the start date."
   ]
  },
  {
   "cell_type": "code",
   "execution_count": 33,
   "id": "0d758682",
   "metadata": {},
   "outputs": [],
   "source": [
    "df_merged['month'] = df_merged['started_at'].dt.month"
   ]
  },
  {
   "cell_type": "code",
   "execution_count": 34,
   "id": "c8f93a97",
   "metadata": {},
   "outputs": [
    {
     "data": {
      "text/plain": [
       "7     823488\n",
       "8     804352\n",
       "6     769204\n",
       "9     756147\n",
       "5     634858\n",
       "10    631226\n",
       "4     371249\n",
       "11    359978\n",
       "3     284042\n",
       "12    247540\n",
       "2     115609\n",
       "1     103770\n",
       "Name: month, dtype: int64"
      ]
     },
     "execution_count": 34,
     "metadata": {},
     "output_type": "execute_result"
    }
   ],
   "source": [
    "df_merged['month'].value_counts()"
   ]
  },
  {
   "cell_type": "markdown",
   "id": "fce85cac",
   "metadata": {},
   "source": [
    "#### Check the datatypes of each column and reduce the size where applicable for lower memory usage."
   ]
  },
  {
   "cell_type": "code",
   "execution_count": 35,
   "id": "639c5b30",
   "metadata": {},
   "outputs": [
    {
     "data": {
      "text/plain": [
       "ride_id                       object\n",
       "rideable_type                 object\n",
       "started_at            datetime64[ns]\n",
       "ended_at              datetime64[ns]\n",
       "start_station_name            object\n",
       "start_station_id              object\n",
       "end_station_name              object\n",
       "end_station_id                object\n",
       "start_lat                    float64\n",
       "start_lng                    float64\n",
       "end_lat                      float64\n",
       "end_lng                      float64\n",
       "member_casual                 object\n",
       "ride_length                  float64\n",
       "day_of_week                    int64\n",
       "month                          int64\n",
       "dtype: object"
      ]
     },
     "execution_count": 35,
     "metadata": {},
     "output_type": "execute_result"
    }
   ],
   "source": [
    "df_merged.dtypes"
   ]
  },
  {
   "cell_type": "markdown",
   "id": "5477e732",
   "metadata": {},
   "source": [
    "#### There are four FLOAT64 datatypes and two INT64 datatypes. I will convert these into FLOAT32 and INT32 with for-loops."
   ]
  },
  {
   "cell_type": "code",
   "execution_count": 36,
   "id": "914b94a6",
   "metadata": {},
   "outputs": [],
   "source": [
    "# For-loop to change all the float64 columns to float32\n",
    "for column in df_merged.columns:\n",
    "    if df_merged[column].dtype == 'float64':\n",
    "        df_merged[column] = df_merged[column].astype(np.float32)"
   ]
  },
  {
   "cell_type": "code",
   "execution_count": 37,
   "id": "ff68760c",
   "metadata": {},
   "outputs": [],
   "source": [
    "# For-loop to change all the int64 columns to int8\n",
    "for column in df_merged.columns:\n",
    "    if df_merged[column].dtype == 'int64':\n",
    "        df_merged[column] = df_merged[column].astype(np.int8)"
   ]
  },
  {
   "cell_type": "code",
   "execution_count": 38,
   "id": "e3c76cd0",
   "metadata": {},
   "outputs": [
    {
     "data": {
      "text/plain": [
       "ride_id                       object\n",
       "rideable_type                 object\n",
       "started_at            datetime64[ns]\n",
       "ended_at              datetime64[ns]\n",
       "start_station_name            object\n",
       "start_station_id              object\n",
       "end_station_name              object\n",
       "end_station_id                object\n",
       "start_lat                    float32\n",
       "start_lng                    float32\n",
       "end_lat                      float32\n",
       "end_lng                      float32\n",
       "member_casual                 object\n",
       "ride_length                  float32\n",
       "day_of_week                     int8\n",
       "month                           int8\n",
       "dtype: object"
      ]
     },
     "execution_count": 38,
     "metadata": {},
     "output_type": "execute_result"
    }
   ],
   "source": [
    "df_merged.dtypes"
   ]
  },
  {
   "cell_type": "markdown",
   "id": "26303b02",
   "metadata": {},
   "source": [
    "#### Rename certain columns for more clarity and readability"
   ]
  },
  {
   "cell_type": "code",
   "execution_count": 39,
   "id": "17032d33",
   "metadata": {},
   "outputs": [],
   "source": [
    "df_merged.rename(columns = {'started_at': 'start_date_time', 'ended_at': 'end_date_time', 'start_lng': 'start_long',\n",
    "                           'end_lng': 'end_long', 'member_casual': 'member_type'}, inplace=True)"
   ]
  },
  {
   "cell_type": "code",
   "execution_count": 40,
   "id": "d6495779",
   "metadata": {},
   "outputs": [
    {
     "data": {
      "text/html": [
       "<div>\n",
       "<style scoped>\n",
       "    .dataframe tbody tr th:only-of-type {\n",
       "        vertical-align: middle;\n",
       "    }\n",
       "\n",
       "    .dataframe tbody tr th {\n",
       "        vertical-align: top;\n",
       "    }\n",
       "\n",
       "    .dataframe thead th {\n",
       "        text-align: right;\n",
       "    }\n",
       "</style>\n",
       "<table border=\"1\" class=\"dataframe\">\n",
       "  <thead>\n",
       "    <tr style=\"text-align: right;\">\n",
       "      <th></th>\n",
       "      <th>ride_id</th>\n",
       "      <th>rideable_type</th>\n",
       "      <th>start_date_time</th>\n",
       "      <th>end_date_time</th>\n",
       "      <th>start_station_name</th>\n",
       "      <th>start_station_id</th>\n",
       "      <th>end_station_name</th>\n",
       "      <th>end_station_id</th>\n",
       "      <th>start_lat</th>\n",
       "      <th>start_long</th>\n",
       "      <th>end_lat</th>\n",
       "      <th>end_long</th>\n",
       "      <th>member_type</th>\n",
       "      <th>ride_length</th>\n",
       "      <th>day_of_week</th>\n",
       "      <th>month</th>\n",
       "    </tr>\n",
       "  </thead>\n",
       "  <tbody>\n",
       "    <tr>\n",
       "      <th>0</th>\n",
       "      <td>99103BB87CC6C1BB</td>\n",
       "      <td>electric_bike</td>\n",
       "      <td>2021-08-10 17:15:49</td>\n",
       "      <td>2021-08-10 17:22:44</td>\n",
       "      <td>NaN</td>\n",
       "      <td>NaN</td>\n",
       "      <td>NaN</td>\n",
       "      <td>NaN</td>\n",
       "      <td>41.770000</td>\n",
       "      <td>-87.680000</td>\n",
       "      <td>41.770000</td>\n",
       "      <td>-87.680000</td>\n",
       "      <td>member</td>\n",
       "      <td>415.0</td>\n",
       "      <td>1</td>\n",
       "      <td>8</td>\n",
       "    </tr>\n",
       "    <tr>\n",
       "      <th>1</th>\n",
       "      <td>EAFCCCFB0A3FC5A1</td>\n",
       "      <td>electric_bike</td>\n",
       "      <td>2021-08-10 17:23:14</td>\n",
       "      <td>2021-08-10 17:39:24</td>\n",
       "      <td>NaN</td>\n",
       "      <td>NaN</td>\n",
       "      <td>NaN</td>\n",
       "      <td>NaN</td>\n",
       "      <td>41.770000</td>\n",
       "      <td>-87.680000</td>\n",
       "      <td>41.770000</td>\n",
       "      <td>-87.629997</td>\n",
       "      <td>member</td>\n",
       "      <td>970.0</td>\n",
       "      <td>1</td>\n",
       "      <td>8</td>\n",
       "    </tr>\n",
       "    <tr>\n",
       "      <th>2</th>\n",
       "      <td>9EF4F46C57AD234D</td>\n",
       "      <td>electric_bike</td>\n",
       "      <td>2021-08-21 02:34:23</td>\n",
       "      <td>2021-08-21 02:50:36</td>\n",
       "      <td>NaN</td>\n",
       "      <td>NaN</td>\n",
       "      <td>NaN</td>\n",
       "      <td>NaN</td>\n",
       "      <td>41.950001</td>\n",
       "      <td>-87.650002</td>\n",
       "      <td>41.970001</td>\n",
       "      <td>-87.660004</td>\n",
       "      <td>member</td>\n",
       "      <td>973.0</td>\n",
       "      <td>5</td>\n",
       "      <td>8</td>\n",
       "    </tr>\n",
       "    <tr>\n",
       "      <th>3</th>\n",
       "      <td>5834D3208BFAF1DA</td>\n",
       "      <td>electric_bike</td>\n",
       "      <td>2021-08-21 06:52:55</td>\n",
       "      <td>2021-08-21 07:08:13</td>\n",
       "      <td>NaN</td>\n",
       "      <td>NaN</td>\n",
       "      <td>NaN</td>\n",
       "      <td>NaN</td>\n",
       "      <td>41.970001</td>\n",
       "      <td>-87.669998</td>\n",
       "      <td>41.950001</td>\n",
       "      <td>-87.650002</td>\n",
       "      <td>member</td>\n",
       "      <td>918.0</td>\n",
       "      <td>5</td>\n",
       "      <td>8</td>\n",
       "    </tr>\n",
       "    <tr>\n",
       "      <th>4</th>\n",
       "      <td>CD825CB87ED1D096</td>\n",
       "      <td>electric_bike</td>\n",
       "      <td>2021-08-19 11:55:29</td>\n",
       "      <td>2021-08-19 12:04:11</td>\n",
       "      <td>NaN</td>\n",
       "      <td>NaN</td>\n",
       "      <td>NaN</td>\n",
       "      <td>NaN</td>\n",
       "      <td>41.790001</td>\n",
       "      <td>-87.599998</td>\n",
       "      <td>41.770000</td>\n",
       "      <td>-87.620003</td>\n",
       "      <td>member</td>\n",
       "      <td>522.0</td>\n",
       "      <td>3</td>\n",
       "      <td>8</td>\n",
       "    </tr>\n",
       "  </tbody>\n",
       "</table>\n",
       "</div>"
      ],
      "text/plain": [
       "            ride_id  rideable_type     start_date_time       end_date_time  \\\n",
       "0  99103BB87CC6C1BB  electric_bike 2021-08-10 17:15:49 2021-08-10 17:22:44   \n",
       "1  EAFCCCFB0A3FC5A1  electric_bike 2021-08-10 17:23:14 2021-08-10 17:39:24   \n",
       "2  9EF4F46C57AD234D  electric_bike 2021-08-21 02:34:23 2021-08-21 02:50:36   \n",
       "3  5834D3208BFAF1DA  electric_bike 2021-08-21 06:52:55 2021-08-21 07:08:13   \n",
       "4  CD825CB87ED1D096  electric_bike 2021-08-19 11:55:29 2021-08-19 12:04:11   \n",
       "\n",
       "  start_station_name start_station_id end_station_name end_station_id  \\\n",
       "0                NaN              NaN              NaN            NaN   \n",
       "1                NaN              NaN              NaN            NaN   \n",
       "2                NaN              NaN              NaN            NaN   \n",
       "3                NaN              NaN              NaN            NaN   \n",
       "4                NaN              NaN              NaN            NaN   \n",
       "\n",
       "   start_lat  start_long    end_lat   end_long member_type  ride_length  \\\n",
       "0  41.770000  -87.680000  41.770000 -87.680000      member        415.0   \n",
       "1  41.770000  -87.680000  41.770000 -87.629997      member        970.0   \n",
       "2  41.950001  -87.650002  41.970001 -87.660004      member        973.0   \n",
       "3  41.970001  -87.669998  41.950001 -87.650002      member        918.0   \n",
       "4  41.790001  -87.599998  41.770000 -87.620003      member        522.0   \n",
       "\n",
       "   day_of_week  month  \n",
       "0            1      8  \n",
       "1            1      8  \n",
       "2            5      8  \n",
       "3            5      8  \n",
       "4            3      8  "
      ]
     },
     "execution_count": 40,
     "metadata": {},
     "output_type": "execute_result"
    }
   ],
   "source": [
    "df_merged.head()"
   ]
  },
  {
   "cell_type": "markdown",
   "id": "8ed6cd1e",
   "metadata": {},
   "source": [
    "#### Re-order columns for better context"
   ]
  },
  {
   "cell_type": "code",
   "execution_count": 41,
   "id": "252ec0e9",
   "metadata": {},
   "outputs": [],
   "source": [
    "df_merged = df_merged.reindex(columns = ['ride_id', 'rideable_type', 'member_type', 'start_date_time', 'end_date_time', \n",
    "                                         'ride_length', 'month', 'day_of_week', 'start_station_name', 'start_station_id', \n",
    "                                         'end_station_name', 'end_station_id', 'start_lat', 'start_long', 'end_lat', 'end_long'])"
   ]
  },
  {
   "cell_type": "code",
   "execution_count": 42,
   "id": "073739c4",
   "metadata": {},
   "outputs": [
    {
     "data": {
      "text/html": [
       "<div>\n",
       "<style scoped>\n",
       "    .dataframe tbody tr th:only-of-type {\n",
       "        vertical-align: middle;\n",
       "    }\n",
       "\n",
       "    .dataframe tbody tr th {\n",
       "        vertical-align: top;\n",
       "    }\n",
       "\n",
       "    .dataframe thead th {\n",
       "        text-align: right;\n",
       "    }\n",
       "</style>\n",
       "<table border=\"1\" class=\"dataframe\">\n",
       "  <thead>\n",
       "    <tr style=\"text-align: right;\">\n",
       "      <th></th>\n",
       "      <th>ride_id</th>\n",
       "      <th>rideable_type</th>\n",
       "      <th>member_type</th>\n",
       "      <th>start_date_time</th>\n",
       "      <th>end_date_time</th>\n",
       "      <th>ride_length</th>\n",
       "      <th>month</th>\n",
       "      <th>day_of_week</th>\n",
       "      <th>start_station_name</th>\n",
       "      <th>start_station_id</th>\n",
       "      <th>end_station_name</th>\n",
       "      <th>end_station_id</th>\n",
       "      <th>start_lat</th>\n",
       "      <th>start_long</th>\n",
       "      <th>end_lat</th>\n",
       "      <th>end_long</th>\n",
       "    </tr>\n",
       "  </thead>\n",
       "  <tbody>\n",
       "    <tr>\n",
       "      <th>0</th>\n",
       "      <td>99103BB87CC6C1BB</td>\n",
       "      <td>electric_bike</td>\n",
       "      <td>member</td>\n",
       "      <td>2021-08-10 17:15:49</td>\n",
       "      <td>2021-08-10 17:22:44</td>\n",
       "      <td>415.0</td>\n",
       "      <td>8</td>\n",
       "      <td>1</td>\n",
       "      <td>NaN</td>\n",
       "      <td>NaN</td>\n",
       "      <td>NaN</td>\n",
       "      <td>NaN</td>\n",
       "      <td>41.770000</td>\n",
       "      <td>-87.680000</td>\n",
       "      <td>41.770000</td>\n",
       "      <td>-87.680000</td>\n",
       "    </tr>\n",
       "    <tr>\n",
       "      <th>1</th>\n",
       "      <td>EAFCCCFB0A3FC5A1</td>\n",
       "      <td>electric_bike</td>\n",
       "      <td>member</td>\n",
       "      <td>2021-08-10 17:23:14</td>\n",
       "      <td>2021-08-10 17:39:24</td>\n",
       "      <td>970.0</td>\n",
       "      <td>8</td>\n",
       "      <td>1</td>\n",
       "      <td>NaN</td>\n",
       "      <td>NaN</td>\n",
       "      <td>NaN</td>\n",
       "      <td>NaN</td>\n",
       "      <td>41.770000</td>\n",
       "      <td>-87.680000</td>\n",
       "      <td>41.770000</td>\n",
       "      <td>-87.629997</td>\n",
       "    </tr>\n",
       "    <tr>\n",
       "      <th>2</th>\n",
       "      <td>9EF4F46C57AD234D</td>\n",
       "      <td>electric_bike</td>\n",
       "      <td>member</td>\n",
       "      <td>2021-08-21 02:34:23</td>\n",
       "      <td>2021-08-21 02:50:36</td>\n",
       "      <td>973.0</td>\n",
       "      <td>8</td>\n",
       "      <td>5</td>\n",
       "      <td>NaN</td>\n",
       "      <td>NaN</td>\n",
       "      <td>NaN</td>\n",
       "      <td>NaN</td>\n",
       "      <td>41.950001</td>\n",
       "      <td>-87.650002</td>\n",
       "      <td>41.970001</td>\n",
       "      <td>-87.660004</td>\n",
       "    </tr>\n",
       "    <tr>\n",
       "      <th>3</th>\n",
       "      <td>5834D3208BFAF1DA</td>\n",
       "      <td>electric_bike</td>\n",
       "      <td>member</td>\n",
       "      <td>2021-08-21 06:52:55</td>\n",
       "      <td>2021-08-21 07:08:13</td>\n",
       "      <td>918.0</td>\n",
       "      <td>8</td>\n",
       "      <td>5</td>\n",
       "      <td>NaN</td>\n",
       "      <td>NaN</td>\n",
       "      <td>NaN</td>\n",
       "      <td>NaN</td>\n",
       "      <td>41.970001</td>\n",
       "      <td>-87.669998</td>\n",
       "      <td>41.950001</td>\n",
       "      <td>-87.650002</td>\n",
       "    </tr>\n",
       "    <tr>\n",
       "      <th>4</th>\n",
       "      <td>CD825CB87ED1D096</td>\n",
       "      <td>electric_bike</td>\n",
       "      <td>member</td>\n",
       "      <td>2021-08-19 11:55:29</td>\n",
       "      <td>2021-08-19 12:04:11</td>\n",
       "      <td>522.0</td>\n",
       "      <td>8</td>\n",
       "      <td>3</td>\n",
       "      <td>NaN</td>\n",
       "      <td>NaN</td>\n",
       "      <td>NaN</td>\n",
       "      <td>NaN</td>\n",
       "      <td>41.790001</td>\n",
       "      <td>-87.599998</td>\n",
       "      <td>41.770000</td>\n",
       "      <td>-87.620003</td>\n",
       "    </tr>\n",
       "  </tbody>\n",
       "</table>\n",
       "</div>"
      ],
      "text/plain": [
       "            ride_id  rideable_type member_type     start_date_time  \\\n",
       "0  99103BB87CC6C1BB  electric_bike      member 2021-08-10 17:15:49   \n",
       "1  EAFCCCFB0A3FC5A1  electric_bike      member 2021-08-10 17:23:14   \n",
       "2  9EF4F46C57AD234D  electric_bike      member 2021-08-21 02:34:23   \n",
       "3  5834D3208BFAF1DA  electric_bike      member 2021-08-21 06:52:55   \n",
       "4  CD825CB87ED1D096  electric_bike      member 2021-08-19 11:55:29   \n",
       "\n",
       "        end_date_time  ride_length  month  day_of_week start_station_name  \\\n",
       "0 2021-08-10 17:22:44        415.0      8            1                NaN   \n",
       "1 2021-08-10 17:39:24        970.0      8            1                NaN   \n",
       "2 2021-08-21 02:50:36        973.0      8            5                NaN   \n",
       "3 2021-08-21 07:08:13        918.0      8            5                NaN   \n",
       "4 2021-08-19 12:04:11        522.0      8            3                NaN   \n",
       "\n",
       "  start_station_id end_station_name end_station_id  start_lat  start_long  \\\n",
       "0              NaN              NaN            NaN  41.770000  -87.680000   \n",
       "1              NaN              NaN            NaN  41.770000  -87.680000   \n",
       "2              NaN              NaN            NaN  41.950001  -87.650002   \n",
       "3              NaN              NaN            NaN  41.970001  -87.669998   \n",
       "4              NaN              NaN            NaN  41.790001  -87.599998   \n",
       "\n",
       "     end_lat   end_long  \n",
       "0  41.770000 -87.680000  \n",
       "1  41.770000 -87.629997  \n",
       "2  41.970001 -87.660004  \n",
       "3  41.950001 -87.650002  \n",
       "4  41.770000 -87.620003  "
      ]
     },
     "execution_count": 42,
     "metadata": {},
     "output_type": "execute_result"
    }
   ],
   "source": [
    "df_merged.head()"
   ]
  },
  {
   "cell_type": "markdown",
   "id": "98bbf306",
   "metadata": {},
   "source": [
    "# 03. Data cleaning"
   ]
  },
  {
   "cell_type": "code",
   "execution_count": 43,
   "id": "ad5b70ce",
   "metadata": {},
   "outputs": [
    {
     "data": {
      "text/plain": [
       "ride_id                    0\n",
       "rideable_type              0\n",
       "member_type                0\n",
       "start_date_time            0\n",
       "end_date_time              0\n",
       "ride_length                0\n",
       "month                      0\n",
       "day_of_week                0\n",
       "start_station_name    860786\n",
       "start_station_id      860784\n",
       "end_station_name      919896\n",
       "end_station_id        919896\n",
       "start_lat                  0\n",
       "start_long                 0\n",
       "end_lat                 5590\n",
       "end_long                5590\n",
       "dtype: int64"
      ]
     },
     "execution_count": 43,
     "metadata": {},
     "output_type": "execute_result"
    }
   ],
   "source": [
    "# Check for missing values\n",
    "df_merged.isnull().sum()"
   ]
  },
  {
   "cell_type": "code",
   "execution_count": 44,
   "id": "7449fd75",
   "metadata": {},
   "outputs": [
    {
     "data": {
      "text/plain": [
       "(5901463, 16)"
      ]
     },
     "execution_count": 44,
     "metadata": {},
     "output_type": "execute_result"
    }
   ],
   "source": [
    "df_merged.shape"
   ]
  },
  {
   "cell_type": "markdown",
   "id": "f1a0ac11",
   "metadata": {},
   "source": [
    "#### As there are many missing values, it isn't best practice to drop such a large amount. However, it is more difficult to fill in the names and IDs based on the coordinates (lat/long). Therefore, I will be dropping them instead."
   ]
  },
  {
   "cell_type": "code",
   "execution_count": 45,
   "id": "36610d5b",
   "metadata": {},
   "outputs": [],
   "source": [
    "# Drop all missing values\n",
    "df_merged.dropna(inplace = True)"
   ]
  },
  {
   "cell_type": "code",
   "execution_count": 46,
   "id": "aafcdfe6",
   "metadata": {},
   "outputs": [
    {
     "data": {
      "text/plain": [
       "(4629230, 16)"
      ]
     },
     "execution_count": 46,
     "metadata": {},
     "output_type": "execute_result"
    }
   ],
   "source": [
    "df_merged.shape"
   ]
  },
  {
   "cell_type": "code",
   "execution_count": 47,
   "id": "04a19214",
   "metadata": {},
   "outputs": [],
   "source": [
    "# Check for duplicates\n",
    "df_dups = df_merged[df_merged.duplicated()]"
   ]
  },
  {
   "cell_type": "code",
   "execution_count": 48,
   "id": "7e45e2e3",
   "metadata": {},
   "outputs": [
    {
     "data": {
      "text/html": [
       "<div>\n",
       "<style scoped>\n",
       "    .dataframe tbody tr th:only-of-type {\n",
       "        vertical-align: middle;\n",
       "    }\n",
       "\n",
       "    .dataframe tbody tr th {\n",
       "        vertical-align: top;\n",
       "    }\n",
       "\n",
       "    .dataframe thead th {\n",
       "        text-align: right;\n",
       "    }\n",
       "</style>\n",
       "<table border=\"1\" class=\"dataframe\">\n",
       "  <thead>\n",
       "    <tr style=\"text-align: right;\">\n",
       "      <th></th>\n",
       "      <th>ride_id</th>\n",
       "      <th>rideable_type</th>\n",
       "      <th>member_type</th>\n",
       "      <th>start_date_time</th>\n",
       "      <th>end_date_time</th>\n",
       "      <th>ride_length</th>\n",
       "      <th>month</th>\n",
       "      <th>day_of_week</th>\n",
       "      <th>start_station_name</th>\n",
       "      <th>start_station_id</th>\n",
       "      <th>end_station_name</th>\n",
       "      <th>end_station_id</th>\n",
       "      <th>start_lat</th>\n",
       "      <th>start_long</th>\n",
       "      <th>end_lat</th>\n",
       "      <th>end_long</th>\n",
       "    </tr>\n",
       "  </thead>\n",
       "  <tbody>\n",
       "  </tbody>\n",
       "</table>\n",
       "</div>"
      ],
      "text/plain": [
       "Empty DataFrame\n",
       "Columns: [ride_id, rideable_type, member_type, start_date_time, end_date_time, ride_length, month, day_of_week, start_station_name, start_station_id, end_station_name, end_station_id, start_lat, start_long, end_lat, end_long]\n",
       "Index: []"
      ]
     },
     "execution_count": 48,
     "metadata": {},
     "output_type": "execute_result"
    }
   ],
   "source": [
    "df_dups"
   ]
  },
  {
   "cell_type": "markdown",
   "id": "f515d2d8",
   "metadata": {},
   "source": [
    "#### There are no duplicate values"
   ]
  },
  {
   "cell_type": "code",
   "execution_count": 49,
   "id": "daa20a8e",
   "metadata": {},
   "outputs": [
    {
     "data": {
      "text/html": [
       "<div>\n",
       "<style scoped>\n",
       "    .dataframe tbody tr th:only-of-type {\n",
       "        vertical-align: middle;\n",
       "    }\n",
       "\n",
       "    .dataframe tbody tr th {\n",
       "        vertical-align: top;\n",
       "    }\n",
       "\n",
       "    .dataframe thead th {\n",
       "        text-align: right;\n",
       "    }\n",
       "</style>\n",
       "<table border=\"1\" class=\"dataframe\">\n",
       "  <thead>\n",
       "    <tr style=\"text-align: right;\">\n",
       "      <th></th>\n",
       "      <th>ride_length</th>\n",
       "      <th>month</th>\n",
       "      <th>day_of_week</th>\n",
       "      <th>start_lat</th>\n",
       "      <th>start_long</th>\n",
       "      <th>end_lat</th>\n",
       "      <th>end_long</th>\n",
       "    </tr>\n",
       "  </thead>\n",
       "  <tbody>\n",
       "    <tr>\n",
       "      <th>count</th>\n",
       "      <td>4.629230e+06</td>\n",
       "      <td>4.629230e+06</td>\n",
       "      <td>4.629230e+06</td>\n",
       "      <td>4.629230e+06</td>\n",
       "      <td>4.629230e+06</td>\n",
       "      <td>4.629230e+06</td>\n",
       "      <td>4.629230e+06</td>\n",
       "    </tr>\n",
       "    <tr>\n",
       "      <th>mean</th>\n",
       "      <td>1.110608e+03</td>\n",
       "      <td>7.220854e+00</td>\n",
       "      <td>3.132628e+00</td>\n",
       "      <td>4.262727e+01</td>\n",
       "      <td>-8.755619e+01</td>\n",
       "      <td>4.262795e+01</td>\n",
       "      <td>-8.755621e+01</td>\n",
       "    </tr>\n",
       "    <tr>\n",
       "      <th>std</th>\n",
       "      <td>4.884531e+03</td>\n",
       "      <td>2.519768e+00</td>\n",
       "      <td>2.006227e+00</td>\n",
       "      <td>7.222989e-01</td>\n",
       "      <td>9.144271e-02</td>\n",
       "      <td>7.230869e-01</td>\n",
       "      <td>9.148039e-02</td>\n",
       "    </tr>\n",
       "    <tr>\n",
       "      <th>min</th>\n",
       "      <td>-7.745000e+03</td>\n",
       "      <td>1.000000e+00</td>\n",
       "      <td>0.000000e+00</td>\n",
       "      <td>4.164850e+01</td>\n",
       "      <td>-8.783325e+01</td>\n",
       "      <td>4.164850e+01</td>\n",
       "      <td>-8.783000e+01</td>\n",
       "    </tr>\n",
       "    <tr>\n",
       "      <th>25%</th>\n",
       "      <td>3.840000e+02</td>\n",
       "      <td>5.000000e+00</td>\n",
       "      <td>1.000000e+00</td>\n",
       "      <td>4.188189e+01</td>\n",
       "      <td>-8.765703e+01</td>\n",
       "      <td>4.188209e+01</td>\n",
       "      <td>-8.765804e+01</td>\n",
       "    </tr>\n",
       "    <tr>\n",
       "      <th>50%</th>\n",
       "      <td>6.730000e+02</td>\n",
       "      <td>7.000000e+00</td>\n",
       "      <td>3.000000e+00</td>\n",
       "      <td>4.189766e+01</td>\n",
       "      <td>-8.764122e+01</td>\n",
       "      <td>4.189776e+01</td>\n",
       "      <td>-8.764170e+01</td>\n",
       "    </tr>\n",
       "    <tr>\n",
       "      <th>75%</th>\n",
       "      <td>1.211000e+03</td>\n",
       "      <td>9.000000e+00</td>\n",
       "      <td>5.000000e+00</td>\n",
       "      <td>4.192676e+01</td>\n",
       "      <td>-8.762798e+01</td>\n",
       "      <td>4.192871e+01</td>\n",
       "      <td>-8.762798e+01</td>\n",
       "    </tr>\n",
       "    <tr>\n",
       "      <th>max</th>\n",
       "      <td>2.497750e+06</td>\n",
       "      <td>1.200000e+01</td>\n",
       "      <td>6.000000e+00</td>\n",
       "      <td>4.563503e+01</td>\n",
       "      <td>-7.379648e+01</td>\n",
       "      <td>4.216812e+01</td>\n",
       "      <td>-8.752740e+01</td>\n",
       "    </tr>\n",
       "  </tbody>\n",
       "</table>\n",
       "</div>"
      ],
      "text/plain": [
       "        ride_length         month   day_of_week     start_lat    start_long  \\\n",
       "count  4.629230e+06  4.629230e+06  4.629230e+06  4.629230e+06  4.629230e+06   \n",
       "mean   1.110608e+03  7.220854e+00  3.132628e+00  4.262727e+01 -8.755619e+01   \n",
       "std    4.884531e+03  2.519768e+00  2.006227e+00  7.222989e-01  9.144271e-02   \n",
       "min   -7.745000e+03  1.000000e+00  0.000000e+00  4.164850e+01 -8.783325e+01   \n",
       "25%    3.840000e+02  5.000000e+00  1.000000e+00  4.188189e+01 -8.765703e+01   \n",
       "50%    6.730000e+02  7.000000e+00  3.000000e+00  4.189766e+01 -8.764122e+01   \n",
       "75%    1.211000e+03  9.000000e+00  5.000000e+00  4.192676e+01 -8.762798e+01   \n",
       "max    2.497750e+06  1.200000e+01  6.000000e+00  4.563503e+01 -7.379648e+01   \n",
       "\n",
       "            end_lat      end_long  \n",
       "count  4.629230e+06  4.629230e+06  \n",
       "mean   4.262795e+01 -8.755621e+01  \n",
       "std    7.230869e-01  9.148039e-02  \n",
       "min    4.164850e+01 -8.783000e+01  \n",
       "25%    4.188209e+01 -8.765804e+01  \n",
       "50%    4.189776e+01 -8.764170e+01  \n",
       "75%    4.192871e+01 -8.762798e+01  \n",
       "max    4.216812e+01 -8.752740e+01  "
      ]
     },
     "execution_count": 49,
     "metadata": {},
     "output_type": "execute_result"
    }
   ],
   "source": [
    "# Check for any outliers in the numerical columns\n",
    "df_merged.describe()"
   ]
  },
  {
   "cell_type": "code",
   "execution_count": 50,
   "id": "a49930e1",
   "metadata": {},
   "outputs": [
    {
     "data": {
      "text/plain": [
       "323.0      4803\n",
       "359.0      4776\n",
       "347.0      4774\n",
       "343.0      4761\n",
       "325.0      4757\n",
       "           ... \n",
       "16451.0       1\n",
       "98555.0       1\n",
       "13312.0       1\n",
       "21777.0       1\n",
       "24927.0       1\n",
       "Name: ride_length, Length: 21182, dtype: int64"
      ]
     },
     "execution_count": 50,
     "metadata": {},
     "output_type": "execute_result"
    }
   ],
   "source": [
    "df_merged['ride_length'].value_counts()"
   ]
  },
  {
   "cell_type": "code",
   "execution_count": 51,
   "id": "cb68a2fa",
   "metadata": {},
   "outputs": [],
   "source": [
    "# Drop the ride_length values < 0\n",
    "df_merged = df_merged[df_merged.ride_length > 0]"
   ]
  },
  {
   "cell_type": "code",
   "execution_count": 52,
   "id": "490acd75",
   "metadata": {},
   "outputs": [
    {
     "data": {
      "text/plain": [
       "1.0"
      ]
     },
     "execution_count": 52,
     "metadata": {},
     "output_type": "execute_result"
    }
   ],
   "source": [
    "df_merged['ride_length'].min()"
   ]
  },
  {
   "cell_type": "code",
   "execution_count": 53,
   "id": "fb87c6ac",
   "metadata": {},
   "outputs": [
    {
     "data": {
      "text/plain": [
       "323.0      4803\n",
       "359.0      4776\n",
       "347.0      4774\n",
       "343.0      4761\n",
       "325.0      4757\n",
       "           ... \n",
       "78696.0       1\n",
       "27679.0       1\n",
       "17902.0       1\n",
       "18571.0       1\n",
       "24927.0       1\n",
       "Name: ride_length, Length: 21089, dtype: int64"
      ]
     },
     "execution_count": 53,
     "metadata": {},
     "output_type": "execute_result"
    }
   ],
   "source": [
    "df_merged['ride_length'].value_counts()"
   ]
  },
  {
   "cell_type": "markdown",
   "id": "20cddf19",
   "metadata": {},
   "source": [
    "#### Drop the ride_length values that are less than 45. I'm accounting for those who changed their mind or were trying to re-dock the bike. A minimum of 1 second doesn't make sense, so I'm giving users the benefit of the doubt."
   ]
  },
  {
   "cell_type": "code",
   "execution_count": 54,
   "id": "3d0bf866",
   "metadata": {},
   "outputs": [],
   "source": [
    "df_merged = df_merged[df_merged.ride_length > 45]"
   ]
  },
  {
   "cell_type": "code",
   "execution_count": 55,
   "id": "b56ddea6",
   "metadata": {},
   "outputs": [
    {
     "data": {
      "text/plain": [
       "323.0      4803\n",
       "359.0      4776\n",
       "347.0      4774\n",
       "343.0      4761\n",
       "325.0      4757\n",
       "           ... \n",
       "78696.0       1\n",
       "27679.0       1\n",
       "17902.0       1\n",
       "18571.0       1\n",
       "24927.0       1\n",
       "Name: ride_length, Length: 21044, dtype: int64"
      ]
     },
     "execution_count": 55,
     "metadata": {},
     "output_type": "execute_result"
    }
   ],
   "source": [
    "df_merged['ride_length'].value_counts()"
   ]
  },
  {
   "cell_type": "code",
   "execution_count": 56,
   "id": "92e0fd4c",
   "metadata": {},
   "outputs": [
    {
     "data": {
      "text/plain": [
       "2497750.0"
      ]
     },
     "execution_count": 56,
     "metadata": {},
     "output_type": "execute_result"
    }
   ],
   "source": [
    "df_merged['ride_length'].max()"
   ]
  },
  {
   "cell_type": "code",
   "execution_count": 57,
   "id": "756b688a",
   "metadata": {},
   "outputs": [
    {
     "data": {
      "text/html": [
       "<div>\n",
       "<style scoped>\n",
       "    .dataframe tbody tr th:only-of-type {\n",
       "        vertical-align: middle;\n",
       "    }\n",
       "\n",
       "    .dataframe tbody tr th {\n",
       "        vertical-align: top;\n",
       "    }\n",
       "\n",
       "    .dataframe thead th {\n",
       "        text-align: right;\n",
       "    }\n",
       "</style>\n",
       "<table border=\"1\" class=\"dataframe\">\n",
       "  <thead>\n",
       "    <tr style=\"text-align: right;\">\n",
       "      <th></th>\n",
       "      <th>ride_id</th>\n",
       "      <th>rideable_type</th>\n",
       "      <th>member_type</th>\n",
       "      <th>start_date_time</th>\n",
       "      <th>end_date_time</th>\n",
       "      <th>ride_length</th>\n",
       "      <th>month</th>\n",
       "      <th>day_of_week</th>\n",
       "      <th>start_station_name</th>\n",
       "      <th>start_station_id</th>\n",
       "      <th>end_station_name</th>\n",
       "      <th>end_station_id</th>\n",
       "      <th>start_lat</th>\n",
       "      <th>start_long</th>\n",
       "      <th>end_lat</th>\n",
       "      <th>end_long</th>\n",
       "    </tr>\n",
       "  </thead>\n",
       "  <tbody>\n",
       "    <tr>\n",
       "      <th>192711</th>\n",
       "      <td>E25E58F5E94EE351</td>\n",
       "      <td>docked_bike</td>\n",
       "      <td>casual</td>\n",
       "      <td>2021-08-01 18:53:10</td>\n",
       "      <td>2021-08-30 16:42:20</td>\n",
       "      <td>2497750.0</td>\n",
       "      <td>8</td>\n",
       "      <td>6</td>\n",
       "      <td>Michigan Ave &amp; Jackson Blvd</td>\n",
       "      <td>TA1309000002</td>\n",
       "      <td>Daley Center Plaza</td>\n",
       "      <td>TA1306000010</td>\n",
       "      <td>41.877850</td>\n",
       "      <td>-87.624077</td>\n",
       "      <td>41.884239</td>\n",
       "      <td>-87.629631</td>\n",
       "    </tr>\n",
       "    <tr>\n",
       "      <th>360554</th>\n",
       "      <td>A310C7270FD730B6</td>\n",
       "      <td>docked_bike</td>\n",
       "      <td>casual</td>\n",
       "      <td>2021-10-02 18:35:36</td>\n",
       "      <td>2021-10-31 01:00:37</td>\n",
       "      <td>2442301.0</td>\n",
       "      <td>10</td>\n",
       "      <td>5</td>\n",
       "      <td>Dusable Harbor</td>\n",
       "      <td>KA1503000064</td>\n",
       "      <td>Wells St &amp; Elm St</td>\n",
       "      <td>KA1504000135</td>\n",
       "      <td>41.886974</td>\n",
       "      <td>-87.612816</td>\n",
       "      <td>41.903221</td>\n",
       "      <td>-87.634323</td>\n",
       "    </tr>\n",
       "    <tr>\n",
       "      <th>67464</th>\n",
       "      <td>23697816035F9A8F</td>\n",
       "      <td>docked_bike</td>\n",
       "      <td>casual</td>\n",
       "      <td>2022-03-05 19:08:58</td>\n",
       "      <td>2022-03-29 15:43:02</td>\n",
       "      <td>2061244.0</td>\n",
       "      <td>3</td>\n",
       "      <td>5</td>\n",
       "      <td>Sheffield Ave &amp; Fullerton Ave</td>\n",
       "      <td>TA1306000016</td>\n",
       "      <td>Base - 2132 W Hubbard Warehouse</td>\n",
       "      <td>Hubbard Bike-checking (LBS-WH-TEST)</td>\n",
       "      <td>41.925602</td>\n",
       "      <td>-87.653709</td>\n",
       "      <td>41.889954</td>\n",
       "      <td>-87.680649</td>\n",
       "    </tr>\n",
       "    <tr>\n",
       "      <th>607878</th>\n",
       "      <td>BBDA8AFFE3BB3F61</td>\n",
       "      <td>docked_bike</td>\n",
       "      <td>casual</td>\n",
       "      <td>2021-09-05 14:45:30</td>\n",
       "      <td>2021-09-28 10:24:02</td>\n",
       "      <td>1971512.0</td>\n",
       "      <td>9</td>\n",
       "      <td>6</td>\n",
       "      <td>DuSable Lake Shore Dr &amp; Ohio St</td>\n",
       "      <td>TA1306000029</td>\n",
       "      <td>Damen Ave &amp; Grand Ave</td>\n",
       "      <td>TA1308000006</td>\n",
       "      <td>41.892570</td>\n",
       "      <td>-87.614494</td>\n",
       "      <td>41.891266</td>\n",
       "      <td>-87.676842</td>\n",
       "    </tr>\n",
       "    <tr>\n",
       "      <th>140266</th>\n",
       "      <td>689016313584F621</td>\n",
       "      <td>docked_bike</td>\n",
       "      <td>casual</td>\n",
       "      <td>2021-09-05 07:05:59</td>\n",
       "      <td>2021-09-27 21:42:29</td>\n",
       "      <td>1953390.0</td>\n",
       "      <td>9</td>\n",
       "      <td>6</td>\n",
       "      <td>DuSable Lake Shore Dr &amp; Ohio St</td>\n",
       "      <td>TA1306000029</td>\n",
       "      <td>Base - 2132 W Hubbard Warehouse</td>\n",
       "      <td>Hubbard Bike-checking (LBS-WH-TEST)</td>\n",
       "      <td>41.892570</td>\n",
       "      <td>-87.614494</td>\n",
       "      <td>41.889954</td>\n",
       "      <td>-87.680649</td>\n",
       "    </tr>\n",
       "    <tr>\n",
       "      <th>717461</th>\n",
       "      <td>DC510E6F98003A94</td>\n",
       "      <td>docked_bike</td>\n",
       "      <td>casual</td>\n",
       "      <td>2022-07-04 18:37:11</td>\n",
       "      <td>2022-07-27 00:32:38</td>\n",
       "      <td>1922127.0</td>\n",
       "      <td>7</td>\n",
       "      <td>0</td>\n",
       "      <td>DuSable Lake Shore Dr &amp; Monroe St</td>\n",
       "      <td>13300</td>\n",
       "      <td>Green St &amp; Randolph St*</td>\n",
       "      <td>chargingstx3</td>\n",
       "      <td>41.880959</td>\n",
       "      <td>-87.616745</td>\n",
       "      <td>41.883602</td>\n",
       "      <td>-87.648628</td>\n",
       "    </tr>\n",
       "    <tr>\n",
       "      <th>31630</th>\n",
       "      <td>AA5CFE14D1864FAB</td>\n",
       "      <td>docked_bike</td>\n",
       "      <td>casual</td>\n",
       "      <td>2021-12-01 08:02:00</td>\n",
       "      <td>2021-12-22 10:42:33</td>\n",
       "      <td>1824033.0</td>\n",
       "      <td>12</td>\n",
       "      <td>2</td>\n",
       "      <td>Central Ave &amp; Lake St</td>\n",
       "      <td>16905</td>\n",
       "      <td>California Ave &amp; Milwaukee Ave</td>\n",
       "      <td>13084</td>\n",
       "      <td>41.887665</td>\n",
       "      <td>-87.765472</td>\n",
       "      <td>41.922695</td>\n",
       "      <td>-87.697151</td>\n",
       "    </tr>\n",
       "    <tr>\n",
       "      <th>47709</th>\n",
       "      <td>578BA30BA1348F18</td>\n",
       "      <td>docked_bike</td>\n",
       "      <td>casual</td>\n",
       "      <td>2022-01-01 01:00:05</td>\n",
       "      <td>2022-01-21 08:51:11</td>\n",
       "      <td>1756266.0</td>\n",
       "      <td>1</td>\n",
       "      <td>5</td>\n",
       "      <td>Millennium Park</td>\n",
       "      <td>13008</td>\n",
       "      <td>Fairfield Ave &amp; Roosevelt Rd</td>\n",
       "      <td>KA1504000102</td>\n",
       "      <td>41.881031</td>\n",
       "      <td>-87.624084</td>\n",
       "      <td>41.866623</td>\n",
       "      <td>-87.694519</td>\n",
       "    </tr>\n",
       "    <tr>\n",
       "      <th>23249</th>\n",
       "      <td>5EE2D7C533CCC17B</td>\n",
       "      <td>docked_bike</td>\n",
       "      <td>casual</td>\n",
       "      <td>2022-01-06 19:07:45</td>\n",
       "      <td>2022-01-25 14:30:33</td>\n",
       "      <td>1624968.0</td>\n",
       "      <td>1</td>\n",
       "      <td>3</td>\n",
       "      <td>Wabash Ave &amp; Grand Ave</td>\n",
       "      <td>TA1307000117</td>\n",
       "      <td>Base - 2132 W Hubbard Warehouse</td>\n",
       "      <td>Hubbard Bike-checking (LBS-WH-TEST)</td>\n",
       "      <td>41.891464</td>\n",
       "      <td>-87.626762</td>\n",
       "      <td>41.889954</td>\n",
       "      <td>-87.680649</td>\n",
       "    </tr>\n",
       "    <tr>\n",
       "      <th>60383</th>\n",
       "      <td>60AD934D1201F9FC</td>\n",
       "      <td>docked_bike</td>\n",
       "      <td>casual</td>\n",
       "      <td>2021-10-10 11:38:36</td>\n",
       "      <td>2021-10-28 21:58:00</td>\n",
       "      <td>1592364.0</td>\n",
       "      <td>10</td>\n",
       "      <td>6</td>\n",
       "      <td>Halsted St &amp; 18th St (Temp)</td>\n",
       "      <td>13099</td>\n",
       "      <td>Base - 2132 W Hubbard Warehouse</td>\n",
       "      <td>Hubbard Bike-checking (LBS-WH-TEST)</td>\n",
       "      <td>41.858372</td>\n",
       "      <td>-87.646385</td>\n",
       "      <td>41.889954</td>\n",
       "      <td>-87.680649</td>\n",
       "    </tr>\n",
       "  </tbody>\n",
       "</table>\n",
       "</div>"
      ],
      "text/plain": [
       "                 ride_id rideable_type member_type     start_date_time  \\\n",
       "192711  E25E58F5E94EE351   docked_bike      casual 2021-08-01 18:53:10   \n",
       "360554  A310C7270FD730B6   docked_bike      casual 2021-10-02 18:35:36   \n",
       "67464   23697816035F9A8F   docked_bike      casual 2022-03-05 19:08:58   \n",
       "607878  BBDA8AFFE3BB3F61   docked_bike      casual 2021-09-05 14:45:30   \n",
       "140266  689016313584F621   docked_bike      casual 2021-09-05 07:05:59   \n",
       "717461  DC510E6F98003A94   docked_bike      casual 2022-07-04 18:37:11   \n",
       "31630   AA5CFE14D1864FAB   docked_bike      casual 2021-12-01 08:02:00   \n",
       "47709   578BA30BA1348F18   docked_bike      casual 2022-01-01 01:00:05   \n",
       "23249   5EE2D7C533CCC17B   docked_bike      casual 2022-01-06 19:07:45   \n",
       "60383   60AD934D1201F9FC   docked_bike      casual 2021-10-10 11:38:36   \n",
       "\n",
       "             end_date_time  ride_length  month  day_of_week  \\\n",
       "192711 2021-08-30 16:42:20    2497750.0      8            6   \n",
       "360554 2021-10-31 01:00:37    2442301.0     10            5   \n",
       "67464  2022-03-29 15:43:02    2061244.0      3            5   \n",
       "607878 2021-09-28 10:24:02    1971512.0      9            6   \n",
       "140266 2021-09-27 21:42:29    1953390.0      9            6   \n",
       "717461 2022-07-27 00:32:38    1922127.0      7            0   \n",
       "31630  2021-12-22 10:42:33    1824033.0     12            2   \n",
       "47709  2022-01-21 08:51:11    1756266.0      1            5   \n",
       "23249  2022-01-25 14:30:33    1624968.0      1            3   \n",
       "60383  2021-10-28 21:58:00    1592364.0     10            6   \n",
       "\n",
       "                       start_station_name start_station_id  \\\n",
       "192711        Michigan Ave & Jackson Blvd     TA1309000002   \n",
       "360554                     Dusable Harbor     KA1503000064   \n",
       "67464       Sheffield Ave & Fullerton Ave     TA1306000016   \n",
       "607878    DuSable Lake Shore Dr & Ohio St     TA1306000029   \n",
       "140266    DuSable Lake Shore Dr & Ohio St     TA1306000029   \n",
       "717461  DuSable Lake Shore Dr & Monroe St            13300   \n",
       "31630               Central Ave & Lake St            16905   \n",
       "47709                     Millennium Park            13008   \n",
       "23249              Wabash Ave & Grand Ave     TA1307000117   \n",
       "60383         Halsted St & 18th St (Temp)            13099   \n",
       "\n",
       "                       end_station_name                       end_station_id  \\\n",
       "192711               Daley Center Plaza                         TA1306000010   \n",
       "360554                Wells St & Elm St                         KA1504000135   \n",
       "67464   Base - 2132 W Hubbard Warehouse  Hubbard Bike-checking (LBS-WH-TEST)   \n",
       "607878            Damen Ave & Grand Ave                         TA1308000006   \n",
       "140266  Base - 2132 W Hubbard Warehouse  Hubbard Bike-checking (LBS-WH-TEST)   \n",
       "717461          Green St & Randolph St*                         chargingstx3   \n",
       "31630    California Ave & Milwaukee Ave                                13084   \n",
       "47709      Fairfield Ave & Roosevelt Rd                         KA1504000102   \n",
       "23249   Base - 2132 W Hubbard Warehouse  Hubbard Bike-checking (LBS-WH-TEST)   \n",
       "60383   Base - 2132 W Hubbard Warehouse  Hubbard Bike-checking (LBS-WH-TEST)   \n",
       "\n",
       "        start_lat  start_long    end_lat   end_long  \n",
       "192711  41.877850  -87.624077  41.884239 -87.629631  \n",
       "360554  41.886974  -87.612816  41.903221 -87.634323  \n",
       "67464   41.925602  -87.653709  41.889954 -87.680649  \n",
       "607878  41.892570  -87.614494  41.891266 -87.676842  \n",
       "140266  41.892570  -87.614494  41.889954 -87.680649  \n",
       "717461  41.880959  -87.616745  41.883602 -87.648628  \n",
       "31630   41.887665  -87.765472  41.922695 -87.697151  \n",
       "47709   41.881031  -87.624084  41.866623 -87.694519  \n",
       "23249   41.891464  -87.626762  41.889954 -87.680649  \n",
       "60383   41.858372  -87.646385  41.889954 -87.680649  "
      ]
     },
     "execution_count": 57,
     "metadata": {},
     "output_type": "execute_result"
    }
   ],
   "source": [
    "# Check the 10 longest rides \n",
    "df_merged.nlargest(10, ['ride_length'])"
   ]
  },
  {
   "cell_type": "markdown",
   "id": "6ed6a8f1",
   "metadata": {},
   "source": [
    "#### The top 10 longest rides were on docked_bikes, and I also noticed that some of the end_station_ids include the word \"TEST\". This could mean that these bikes were for test purposes, as it's unlikely users would return the bike to the warehouse. "
   ]
  },
  {
   "cell_type": "code",
   "execution_count": 58,
   "id": "b662f1df",
   "metadata": {},
   "outputs": [],
   "source": [
    "# Remove all the end_station_ids that contain TEST in the name\n",
    "df_merged = df_merged[~df_merged.end_station_id.str.contains(\"LBS-WH-TEST\")]"
   ]
  },
  {
   "cell_type": "code",
   "execution_count": 59,
   "id": "da7257c9",
   "metadata": {},
   "outputs": [],
   "source": [
    "# Export the wrangled and cleaned dataset for analysis\n",
    "df_merged.to_pickle(os.path.join (path, 'Data', 'Prepared Data', 'cleaned_data.pkl'))"
   ]
  }
 ],
 "metadata": {
  "kernelspec": {
   "display_name": "Python 3 (ipykernel)",
   "language": "python",
   "name": "python3"
  },
  "language_info": {
   "codemirror_mode": {
    "name": "ipython",
    "version": 3
   },
   "file_extension": ".py",
   "mimetype": "text/x-python",
   "name": "python",
   "nbconvert_exporter": "python",
   "pygments_lexer": "ipython3",
   "version": "3.9.12"
  }
 },
 "nbformat": 4,
 "nbformat_minor": 5
}
